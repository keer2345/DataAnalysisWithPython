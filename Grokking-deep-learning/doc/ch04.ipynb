{
 "cells": [
  {
   "cell_type": "markdown",
   "metadata": {
    "ein.tags": "worksheet-0",
    "slideshow": {
     "slide_type": "-"
    }
   },
   "source": [
    "# 4. Introduction to Neural Learning: Gradient Descent\n",
    "- Do neural networks make accurate predictions?\n",
    "- Why measure error?\n",
    "- Hot and Cold Learning\n",
    "- Calculating both direction and amount from error\n",
    "- Gradient Descent\n",
    "- Learning is Just Reducing Error\n",
    "- Derivatives and how to use them to learn\n",
    "- Divergence and Alph\n",
    "\n",
    "## 4.1 Predict, Compare, and Learn\n",
    "This chapter is about \"Compare\", and \"Learn\"\n",
    "\n",
    "## 4.2 Compare\n",
    "A measurement of how much our prediction \"missed\".\n",
    "\n",
    "## 4.3 Learn\n",
    "\"Learning\" takes our error and tells each weight how it can change to reduce it.\n",
    "\n",
    "In this chapter, we will spend a great number of pages learning the most popular version of the Deep Learning \"blame game\" called Gradient Descent.\n",
    "\n",
    "## 4.4 Compare: Does our network make good predictions?"
   ]
  }
 ],
 "metadata": {
  "kernelspec": {
   "display_name": "Python 3",
   "name": "python3"
  },
  "language_info": {
   "codemirror_mode": {
    "name": "ipython",
    "version": 3
   },
   "file_extension": ".py",
   "mimetype": "text/x-python",
   "name": "python",
   "nbconvert_exporter": "python",
   "pygments_lexer": "ipython3",
   "version": "3.7.2"
  },
  "name": "ch04.ipynb"
 },
 "nbformat": 4,
 "nbformat_minor": 2
}
