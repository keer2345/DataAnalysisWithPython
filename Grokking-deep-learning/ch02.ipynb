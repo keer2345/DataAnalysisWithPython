{
 "cells": [
  {
   "cell_type": "markdown",
   "metadata": {},
   "source": [
    "**Chapter 02 Fundamental concepts: how do machines learn?**\n",
    "\n",
    "> klhtudos【】sharklasers.com\n",
    "\n"
   ]
  },
  {
   "cell_type": "markdown",
   "metadata": {},
   "source": [
    "- What are Deep Learning, Machine Learning, and Artificial Intelligence?\n",
    "- What are parametric models and nonparametric models?\n",
    "- What are supervised learning and unsupervised learning?\n",
    "- How can machines learn?\n",
    "\n",
    "> Machine Learning will cause every successful IPO win in 5 years\n",
    "> - Eric Schmidt (Google Chairman, 2016)"
   ]
  },
  {
   "cell_type": "markdown",
   "metadata": {},
   "source": [
    "# 2.1 What is Deep Learning?\n",
    "Deep Learning is a subfi eld of methods for Machine Learning\n",
    "\n",
    "<img src=\"images/2.1.jpg\" align=\"center\">"
   ]
  },
  {
   "cell_type": "markdown",
   "metadata": {},
   "source": [
    "# 2.2 What is machine learning?\n",
    "\n",
    "> “A field of study that gives computers the ability to learn without being explicitly programmed.”\n",
    ">\n",
    "> Attributed to Arthur Samuel\n",
    "\n",
    "Machine learning is a subfield of computer science wherein machines learn to perform tasks for which they were not explicitly programmed. In short, machines observe a pattern and attempt to imitate it in some way that can be either direct or indirect.\n",
    "\n",
    "\n",
    "<img src=\"images/2.2.jpg\" align=\"center\">\n",
    "\n",
    "Two main types of machine learning: \n",
    "1. *supervised*\n",
    "1. *unsupervised*"
   ]
  },
  {
   "cell_type": "markdown",
   "metadata": {},
   "source": [
    "# 2.3 Supervised machine learning\n",
    "\n",
    "**Supervised learning transforms datasets**\n",
    "\n",
    "Supervised learning is a method for transforming one dataset into another.\n",
    "\n",
    "<img src=\"images/2.3.jpg\" align=\"center\">\n",
    "\n",
    "Supervised is useful for talking **_what you know_** as input and quickly transforming it into **_what you want to konw_**.\n",
    "\n",
    "<img src=\"images/2.4.jpg\" align=\"center\">"
   ]
  },
  {
   "cell_type": "markdown",
   "metadata": {},
   "source": [
    "# 2.4 Unsupervised machine learning\n",
    "\n",
    "**Unsupervised learning groups your data**\n",
    "\n",
    "Unsupervised learning shares a property in common with supervised learning: it transforms one dataset into another. But the dataset that it transforms into is not previously known or understood. Unlike supervised learning, there is no “right answer” that you’re trying to get the model to duplicate. You just tell an unsupervised algorithm to “find patterns in this data and tell me about them.”\n",
    "\n",
    "<img src=\"images/2.5.jpg\" align=\"center\">\n",
    "\n",
    "<img src=\"images/2.6.jpg\" align=\"center\">\n",
    "\n",
    "Check out this example. Even though the algorithm didn’t tell what the clusters are named, can you figure out how it clustered the words? (Answer: 1 == cute and 2 == delicious.) "
   ]
  },
  {
   "cell_type": "markdown",
   "metadata": {},
   "source": [
    "# 2.5 Parametric vs. nonparametric learning\n",
    "\n",
    "**Oversimplified: Trial-and-error learning vs. counting and probability**\n",
    "\n",
    "Now, we’re going to discuss another way to divide the same machine learning algorithms into two groups: **_parametric_** and **_nonparametric_**. So, if we think about our little machine learning cloud, it has two settings:\n",
    "\n",
    "\n",
    "<img src=\"images/2.7.jpg\" align=\"center\">\n",
    "\n",
    "Fet’s look at the formal definitions of parametricism versus nonparametricism:\n",
    "\n",
    "> A parametric model is characterized by having a fi xed number of parameters whereas\n",
    "a non-parametric model's number of parameters is infi nite (determined by data).\n",
    "\n",
    "Parametric models tend to use trial and error, whereas nonparametric models tend to count. Let’s look closer."
   ]
  },
  {
   "cell_type": "markdown",
   "metadata": {},
   "source": [
    "# 2.6 Supervised parametric learning\n",
    "\n",
    "**Oversimplified: Trial-and-error learning using knobs**\n",
    "\n",
    "Supervised parametric learning machines are machines with a fixed number of knobs (that’s the parametric part), wherein learning occurs by turning the knobs. Input data comes in, is processed based on the angle of the knobs, and is transformed into a prediction.\n",
    "\n",
    "\n",
    "<img src=\"images/2.8.jpg\" align=\"center\">\n",
    "\n",
    "Note further that the notion of trial and error isn’t the formal definition, but it’s a common (with exceptions) property to parametric models. When there is an arbitrary (but fixed) number of knobs to turn, some level of searching is required to find the optimal configuration. This is in contrast to nonparametric learning, which is often count based and (more or less) adds new knobs when it finds something new to count. Let’s break down supervised parametric learning into its three steps.\n",
    "\n",
    "**Step 1: Predict**\n",
    "\n",
    "<img src=\"images/2.9.jpg\" align=\"center\">\n",
    "\n",
    "**Step 2: Compare to the truth pattern**\n",
    "\n",
    "**Step 3: Learn the pattern**"
   ]
  },
  {
   "cell_type": "markdown",
   "metadata": {},
   "source": [
    "# 2.7 Unsupervised parametric learning\n",
    "\n",
    "Unsupervised parametric learning uses a very similar approach. Let’s walk through the steps at a high level. Remember that unsupervised learning is all about grouping data. Unsupervised parametric learning uses knobs to group data. But in this case, it usually has several knobs for each group, each of which maps the input data’s affinity to that particular group (with exceptions and nuance—this is a high-level description). Let’s look at an example that assumes you want to divide the data into three groups.\n",
    "\n",
    "<img src=\"images/2.10.jpg\" align=\"center\">\n",
    "\n",
    "<img src=\"images/2.11.jpg\" align=\"center\">\n",
    "\n",
    "# 2.8 Nonparametric learning\n",
    "\n",
    "**Oversimplified: Counting-based methods**\n",
    "\n",
    "Nonparametric learning is a class of algorithm wherein the number of parameters is based on data (instead of predefined). This lends itself to methods that generally count in one way or another, thus increasing the number of parameters based on the number of items being counted within the data. In the supervised setting."
   ]
  }
 ],
 "metadata": {
  "kernelspec": {
   "display_name": "Python 3",
   "language": "python",
   "name": "python3"
  },
  "language_info": {
   "codemirror_mode": {
    "name": "ipython",
    "version": 3
   },
   "file_extension": ".py",
   "mimetype": "text/x-python",
   "name": "python",
   "nbconvert_exporter": "python",
   "pygments_lexer": "ipython3",
   "version": "3.7.3"
  },
  "toc": {
   "base_numbering": 1,
   "nav_menu": {},
   "number_sections": true,
   "sideBar": true,
   "skip_h1_title": false,
   "title_cell": "Table of Contents",
   "title_sidebar": "Contents",
   "toc_cell": false,
   "toc_position": {},
   "toc_section_display": true,
   "toc_window_display": false
  }
 },
 "nbformat": 4,
 "nbformat_minor": 2
}
