{
 "cells": [
  {
   "cell_type": "markdown",
   "metadata": {},
   "source": [
    "**Chapter 03 Introduction to neural prediction: forward propagation**\n",
    "\n",
    "> gbtayndb【】sharklasers.com\n",
    "\n",
    "In this chapter:\n",
    "- A simple network making a prediction\n",
    "- What is a neural network, and what does it do?\n",
    "- Making a prediction with multiple inputs\n",
    "- Making a prediction with multiple outputs\n",
    "- Making a prediction with multiple inputs and outputs\n",
    "- Predicting on predictions\n",
    "\n",
    "> “I try not to get involved in the business of prediction. It’s a uick way to look like an idiot.”\n",
    ">\n",
    "> Warren Ellis comic-book writer, novelist, and screenwriter\n",
    "\n"
   ]
  },
  {
   "cell_type": "markdown",
   "metadata": {},
   "source": [
    "# Step 1: Predict\n",
    "\n",
    "**This chapter is about prediction**\n",
    "\n",
    "<img algin=\"center\"  src=\"images/3.1.jpg\">\n",
    "\n",
    "In this chapter, you’ll learn more about what these three different parts of a neural network prediction look like under the hood. Let’s start with the first one: the data. In your first neural network, you’re going to predict one datapoint at a time, like so:\n",
    "\n",
    "<img algin=\"center\"  src=\"images/3.2.jpg\">\n",
    "\n",
    "Later, you’ll find that the number of datapoints you process at a time has a significant impact on what a network looks like. You might be wondering, “How do I choose how many datapoints to propagate at a time?” The answer is based on whether you think the neural network can be accurate with the data you give it.\n",
    "\n",
    "Let’s stick with a single prediction of the likelihood that the baseball team will win:\n",
    "\n",
    "<img algin=\"center\"  src=\"images/3.3.jpg\">"
   ]
  },
  {
   "cell_type": "markdown",
   "metadata": {},
   "source": [
    "# A simple neural network making a prediction\n",
    "\n",
    "<img algin=\"center\"  src=\"images/3.4.jpg\">"
   ]
  },
  {
   "cell_type": "code",
   "execution_count": 2,
   "metadata": {},
   "outputs": [],
   "source": [
    "weight = 0.1\n",
    "\n",
    "\n",
    "def neural_network(input, weight):\n",
    "    prediction = input * weight\n",
    "    return prediction"
   ]
  },
  {
   "cell_type": "markdown",
   "metadata": {},
   "source": [
    "<img algin=\"center\"  src=\"images/3.5.jpg\">"
   ]
  },
  {
   "cell_type": "code",
   "execution_count": 5,
   "metadata": {},
   "outputs": [
    {
     "name": "stdout",
     "output_type": "stream",
     "text": [
      "0.8500000000000001\n"
     ]
    }
   ],
   "source": [
    "number_of_toes = [8.5, 9.5, 10, 9]\n",
    "input = number_of_toes[0]\n",
    "pred = neural_network(input, weight)\n",
    "print(pred)"
   ]
  },
  {
   "cell_type": "markdown",
   "metadata": {},
   "source": [
    "A neural network knows only what you feed it as input. It forgets everything else. Later, you’ll learn how to give a neural network a “short-term memory” by feeding in multiple inputs at once.\n",
    "\n",
    "<img algin=\"center\"  src=\"images/3.6.jpg\">\n",
    "\n",
    "Another way to think about a neural network’s weight value is as a measure of sensitivity between the input of the network and its prediction. If the weight is very high, then even the tiniest input can create a really large prediction! If the weight is very small, then even large inputs will make small predictions. This sensitivity is akin to volume. “Turning up the weight” amplifies the prediction relative to the input: weight is a volume knob!\n",
    "\n",
    "\n",
    "<img algin=\"center\"  src=\"images/3.7.jpg\">\n",
    "\n",
    "Note that neural networks don’t predict just positive numbers—they can also **predict negative numbers** and even take **negative numbers as input.**\n",
    "\n",
    "<img algin=\"center\"  src=\"images/3.8.jpg\">"
   ]
  },
  {
   "cell_type": "markdown",
   "metadata": {},
   "source": [
    "# Making a prediction with multiple inputs\n",
    "\n",
    "**Neural networks can combine intelligence from multiple datapoints**\n",
    "\n",
    "<img algin=\"center\"  src=\"images/3.9.jpg\">\n",
    "<img algin=\"center\"  src=\"images/3.10.jpg\">\n",
    "<img algin=\"center\"  src=\"images/3.11.jpg\">\n",
    "<img algin=\"center\"  src=\"images/3.12.jpg\">\n"
   ]
  },
  {
   "cell_type": "code",
   "execution_count": 17,
   "metadata": {},
   "outputs": [
    {
     "name": "stdout",
     "output_type": "stream",
     "text": [
      "0.9800000000000001\n"
     ]
    }
   ],
   "source": [
    "weights = [0.1, 0.2, 0]\n",
    "\n",
    "\n",
    "def w_sum(a, b):\n",
    "    assert(len(a) == len(b))\n",
    "    output = 0\n",
    "    for i in range(len(a)):\n",
    "        output += (a[i]*b[i])\n",
    "\n",
    "    return output\n",
    "\n",
    "\n",
    "def neutual_network2(input, weigts):\n",
    "    pred = w_sum(input, weights)\n",
    "    return pred\n",
    "\n",
    "\n",
    "toes = [8.5, 9.5, 9.9, 9.0]\n",
    "wlrec = [0.65, 0.8, 0.8, 0.9]\n",
    "nfans = [1.2, 1.3, 0.5, 1.0]\n",
    "\n",
    "input = [toes[0], wlrec[0], nfans[0]]\n",
    "\n",
    "pred = neutual_network2(input, weights)\n",
    "print(pred)"
   ]
  },
  {
   "cell_type": "markdown",
   "metadata": {},
   "source": [
    "# Multiple inputs: What does this neural network do?\n",
    "\n",
    "**It multiplies three inputs by three knob weights and sums them. T- This is a weighted sum**\n"
   ]
  }
 ],
 "metadata": {
  "kernelspec": {
   "display_name": "Python 3",
   "language": "python",
   "name": "python3"
  },
  "language_info": {
   "codemirror_mode": {
    "name": "ipython",
    "version": 3
   },
   "file_extension": ".py",
   "mimetype": "text/x-python",
   "name": "python",
   "nbconvert_exporter": "python",
   "pygments_lexer": "ipython3",
   "version": "3.7.3"
  },
  "toc": {
   "base_numbering": 1,
   "nav_menu": {},
   "number_sections": true,
   "sideBar": true,
   "skip_h1_title": false,
   "title_cell": "Table of Contents",
   "title_sidebar": "Contents",
   "toc_cell": false,
   "toc_position": {},
   "toc_section_display": true,
   "toc_window_display": false
  }
 },
 "nbformat": 4,
 "nbformat_minor": 2
}
