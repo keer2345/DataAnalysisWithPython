{
 "cells": [
  {
   "cell_type": "markdown",
   "metadata": {},
   "source": [
    "**Chapter 03 Ascending to the 3D World**\n",
    "\n",
    "> nasitery【】yandex.ru / 123456\n",
    "\n",
    "本章讲述：\n",
    "- 为 3D 向量构建神经模型\n",
    "- 3D 向量算法\n",
    "- 用向量点积（dot product）和向量叉积（cross product）测量长度和方向\n",
    "- 在 2D 中渲染 3D 对象\n",
    "\n",
    "\n",
    "2D 的圆加上阴影，看起来就向 3D 的球体：\n",
    "<img align=\"center\" src=\"images/3.1.png\"/>\n",
    "\n",
    "画一个阴影使用许多小球体,纯粹的三角形：\n",
    "<img align=\"center\" src=\"images/3.2.png\"/>\n",
    "\n",
    "\n",
    "# 3.1 在三维空间中绘制向量\n",
    "\n",
    "2D 平面中表示长和宽：\n",
    "<img align=\"center\" src=\"images/3.3.png\"/>\n",
    "\n",
    "3D 空间中的长宽高：\n",
    "<img align=\"center\" src=\"images/3.4.png\"/>\n",
    "\n",
    "3D 空间中的 2D 向量 `(4, 3)`：\n",
    "\n",
    "<img align=\"center\" src=\"images/3.5.png\"/>\n",
    "\n",
    "扩展到 3D 空间中的向量：\n",
    "<img align=\"center\" src=\"images/3.6.png\"/>\n",
    "\n",
    "## 3.1.1 用坐标表示 3D 向量\n",
    "\n",
    "\n",
    "<img align=\"center\" src=\"images/3.7.png\"/>\n",
    "<img align=\"center\" src=\"images/3.8.png\"/>\n",
    "\n",
    "## 3.1.2 在 Python 中绘制 3D 向量\n",
    "\n",
    "```\n",
    "draw3d()\n",
    "```\n",
    "<img align=\"center\" src=\"images/3.9.png\"/>\n",
    "\n",
    "\n",
    "```python\n",
    "draw3d(\n",
    "     Points3D((2,2,2),(1,-2,-2))\n",
    " )\n",
    "```\n",
    "<img align=\"center\" src=\"images/3.10.png\"/>\n",
    "\n",
    "```python\n",
    "draw3d(\n",
    "     Points3D((2,2,2),(1,-2,-2)),\n",
    "     Arrow3D((2,2,2)),\n",
    "     Arrow3D((1,-2,-2)),\n",
    "     Segment3D((2,2,2), (1,-2,-2))\n",
    " )\n",
    "```\n",
    "\n",
    "<img align=\"center\" src=\"images/3.11.png\"/>\n",
    "\n",
    "```python\n",
    "draw3d(\n",
    "     Points3D((2,2,2),(1,-2,-2)),\n",
    "     Arrow3D((2,2,2)),\n",
    "     Arrow3D((1,-2,-2)),\n",
    "     Segment3D((2,2,2), (1,-2,-2)),\n",
    "     Box3D(2,2,2),\n",
    "     Box3D(1,-2,-2)\n",
    " )\n",
    "```\n",
    "\n",
    "<img align=\"center\" src=\"images/3.12.png\"/>\n",
    "\n",
    "```python\n",
    "pm1 = [1,-1]\n",
    " vertices = [(x,y,z) for x in pm1 for y in pm1 for z in pm1]\n",
    " edges = [((-1,y,z),(1,y,z)) for y in pm1 for z in pm1] +\\\n",
    "             [((x,-1,z),(x,1,z)) for x in pm1 for z in pm1] +\\\n",
    "             [((x,y,-1),(x,y,1)) for x in pm1 for y in pm1]\n",
    " draw3d(\n",
    "     Points3D(*vertices,color=blue),\n",
    "     *[Segment3D(*edge) for edge in edges]\n",
    " )\n",
    "````\n",
    "\n",
    "\n",
    "<img align=\"center\" src=\"images/3.14.png\"/>\n"
   ]
  },
  {
   "cell_type": "markdown",
   "metadata": {},
   "source": [
    "# 3.2 3D 向量算法\n",
    "\n",
    "## 3.2.1 3D 向量的加法\n",
    "\n",
    "<img align=\"center\" src=\"images/3.15.png\"/>\n",
    "\n",
    "<img align=\"center\" src=\"images/3.16.png\"/>\n",
    "\n",
    "在 Python 中，我们编写简明的函数来表示加法：\n"
   ]
  },
  {
   "cell_type": "code",
   "execution_count": 11,
   "metadata": {},
   "outputs": [],
   "source": [
    "def add(*vectors):\n",
    "     by_coordinate = zip(*vectors)\n",
    "     coordinate_sums = [sum(coords) for coords in by_coordinate]\n",
    "     return tuple(coordinate_sums)"
   ]
  },
  {
   "cell_type": "code",
   "execution_count": 8,
   "metadata": {},
   "outputs": [
    {
     "data": {
      "text/plain": [
       "<zip at 0x7f3134546988>"
      ]
     },
     "execution_count": 8,
     "metadata": {},
     "output_type": "execute_result"
    }
   ],
   "source": [
    "zip(*[(1,1,3),(2,4,-4),(4,2,-2)])"
   ]
  },
  {
   "cell_type": "code",
   "execution_count": 9,
   "metadata": {},
   "outputs": [
    {
     "data": {
      "text/plain": [
       "[(1, 2, 4), (1, 4, 2), (3, -4, -2)]"
      ]
     },
     "execution_count": 9,
     "metadata": {},
     "output_type": "execute_result"
    }
   ],
   "source": [
    "list(zip(*[(1,1,3),(2,4,-4),(4,2,-2)]))"
   ]
  },
  {
   "cell_type": "code",
   "execution_count": 10,
   "metadata": {},
   "outputs": [
    {
     "data": {
      "text/plain": [
       "[7, 7, -3]"
      ]
     },
     "execution_count": 10,
     "metadata": {},
     "output_type": "execute_result"
    }
   ],
   "source": [
    "[sum(coords) for coords in [(1, 2, 4), (1, 4, 2), (3, -4, -2)]]"
   ]
  },
  {
   "cell_type": "code",
   "execution_count": 13,
   "metadata": {},
   "outputs": [],
   "source": [
    "def add(*vectors):\n",
    "     return tuple(map(sum,zip(*vectors)))"
   ]
  },
  {
   "cell_type": "markdown",
   "metadata": {},
   "source": [
    "我们可以简写成："
   ]
  },
  {
   "cell_type": "code",
   "execution_count": 14,
   "metadata": {},
   "outputs": [
    {
     "data": {
      "text/plain": [
       "(7, 7, -3)"
      ]
     },
     "execution_count": 14,
     "metadata": {},
     "output_type": "execute_result"
    }
   ],
   "source": [
    "add(*[(1,1,3),(2,4,-4),(4,2,-2)])"
   ]
  },
  {
   "cell_type": "markdown",
   "metadata": {},
   "source": [
    "## 3.2.2   3D 乘法\n",
    "\n",
    "两倍向量：v = (1,2,3) ， 2v = (2,4,6)\n",
    "\n",
    "<img align=\"center\" src=\"images/3.17.png\"/>\n",
    "\n",
    "## 3.2.3 3D 减法\n",
    "\n",
    "向量相减：v = (-1,-3,3) ， w = (3,2,4)\n",
    "\n",
    "<img align=\"center\" src=\"images/3.18.png\"/>\n",
    "\n",
    "## 3.2.4 计算向量长度和距离\n",
    "\n",
    "\n",
    "<img align=\"center\" src=\"images/3.19.png\"/>\n",
    "\n",
    "<img align=\"center\" src=\"images/3.20.png\"/>\n",
    "\n",
    "<img align=\"center\" src=\"images/3.21.png\"/>"
   ]
  },
  {
   "cell_type": "code",
   "execution_count": 4,
   "metadata": {},
   "outputs": [],
   "source": [
    "from math import sqrt\n",
    "\n",
    "\n",
    "def length(v):\n",
    "    return sqrt(sum([coord ** 2 for coord in v]))"
   ]
  },
  {
   "cell_type": "code",
   "execution_count": 5,
   "metadata": {},
   "outputs": [
    {
     "data": {
      "text/plain": [
       "13.0"
      ]
     },
     "execution_count": 5,
     "metadata": {},
     "output_type": "execute_result"
    }
   ],
   "source": [
    "length((3,4,12))"
   ]
  },
  {
   "cell_type": "markdown",
   "metadata": {},
   "source": [
    "## 3.2.5 计算角度和方向\n",
    "\n",
    "在 2D 中，可以想得到 3D 向量是长度和方向作为箭头的位移。2D 中，意味着 2 个数字 —— 极坐标的长和角度 —— 足以表示 2D 向量。一个角度并不足以表示其方向，需要两个角度。\n",
    "\n",
    "<img align=\"center\" src=\"images/3.22.png\"/>\n",
    "\n",
    "## 3.2.6 练习\n",
    "\n",
    "```Python\n",
    ">>> add((4,0,3),(-1,0,1))\n",
    " (3, 0, 4)\n",
    "```   \n",
    "\n",
    "```Python\n",
    "draw3d(\n",
    "     Arrow3D((4,0,3),color=red),\n",
    "     Arrow3D((-1,0,1),color=blue),\n",
    "     Arrow3D((3,0,4),(4,0,3),color=blue),\n",
    "     Arrow3D((-1,0,1),(3,0,4),color=red),\n",
    "     Arrow3D((3,0,4),color=purple)\n",
    " )\n",
    "```\n",
    "\n",
    "\n",
    "<img align=\"center\" src=\"images/3.23.png\"/>"
   ]
  },
  {
   "cell_type": "code",
   "execution_count": 7,
   "metadata": {},
   "outputs": [],
   "source": [
    "from math import sin, cos, pi\n",
    "vs = [(sin(pi*t/6), cos(pi*t/6), 1.0/3) for t in range(0, 24)]"
   ]
  },
  {
   "cell_type": "markdown",
   "metadata": {},
   "source": [
    "```python\n",
    "from math import sin, cos, pi\n",
    "vs = [(sin(pi*t/6), cos(pi*t/6), 1.0/3) for t in range(0, 24)]\n",
    "\n",
    "running_sum = (0, 0, 0)\n",
    "arrows = []\n",
    "for v in vs:\n",
    "    next_sum = add(running_sum, v)\n",
    "    arrows.append(Arrow3D(next_sum, running_sum))\n",
    "    running_sum = next_sum\n",
    "print(running_sum)\n",
    "draw3d(*arrows)\n",
    "```"
   ]
  },
  {
   "cell_type": "markdown",
   "metadata": {},
   "source": [
    "<img align=\"center\" src=\"images/3.24.png\"/>"
   ]
  },
  {
   "cell_type": "markdown",
   "metadata": {},
   "source": [
    "# 3.3 向量点积：向量测量校准\n",
    "\n",
    "我们已经向量的一种乘法是**标量乘法**，绑定一个标量（一个真实数字）和向量来获取新的向量。我们还没有讨论向量之间的乘法。原来有两个重要的方法来这样多，他们都是重要的几何学。一种称为向量点积（dot product），我们写做 `u · v` ，另一种称为向量叉积（cross product），写做 ` u × v` 。\n",
    "\n",
    "当我们乘以数字，两个乘法符号意思是一样的。但对于向量，意思却完全不同。事实上，向量点积让两个向量返回一个标量，而向量叉积让两个向量返回一个新的向量。当然，这些操作都将有助于我们对 3D 向量长度和方向的思考。让我们开始了解向量点积吧。\n",
    "\n",
    "## 3.3.1 向量点积的图形\n",
    "\n",
    "向量点积（通常也称为内积　inner product）是操作两个向量返回一个标量。换句话说，给两个向量　*u* 和　*v* ， `u · v` 返回一个实数。向量点积工作在 2D ，3D 或者其他任意维度上。可以认为是测量“排列方式（how aligned）”的成对向量输入。我们看看平面上 x, y 的一些向量，展示他们的向量点积。\n",
    "\n",
    "这两个向量 u 和 v 分别是长度 4 和 5 ，他们有几乎同样的方向。他们的向量点积是整数，意思为他们是一致的。\n",
    "\n",
    "<img align=\"center\" src=\"images/3.25.png\"/>\n",
    "\n",
    "这两个向量指向相同的方向，拥有同向的向量点积，并且向量越大点积越大。但是仍然是同向的。下图是两个长度为 2 的向量：\n",
    "\n",
    "\n",
    "<img align=\"center\" src=\"images/3.26.png\"/>\n",
    "\n",
    "相应的，如果两个向量方向是相反的，或者近乎相反的，向量点积则是负数。向量越大，向量点积负数也越大。\n",
    "\n",
    "<img align=\"center\" src=\"images/3.27.png\"/>\n",
    "\n",
    "<img align=\"center\" src=\"images/3.28.png\"/>\n",
    "\n",
    "并不是所有的向量都有相似或相反的方向，如果两个向量是垂直的，他们的向量点积不管长度如何都是 0 。\n",
    "\n",
    "<img align=\"center\" src=\"images/3.29.png\"/>\n",
    "\n",
    "这是向量点积中最重要的应用：它使我们对三角形的垂直向量不做任何计算。这种垂直情况下也与其他情况分开：如果两个向量夹角小于 90° ，将是同向向量；如果超过 90° ，则为反向向量。当没有告诉你如何计算向量点积时，选择已经知道如何解释它们了。接下来我们讲解计算。\n",
    "\n",
    "## 3.3.2 计算向量点积\n",
    "\n",
    "给定两个 向量的坐标，很容易计算向量点积：乘以响应的坐标然后相加。\n",
    "\n",
    "例如 `(1, 2, -1) · (3, 0, 3)` ， x 坐标是 3 ，y  坐标是0 ，z 坐标是 -3 。它们的和为 `3 + 0 + (-3)= 0` 。因此这个向量点积为 0 。如果继续推论，这两个向量应该垂直，绘制它们来证明这一点，但是你已经看到它们的正确方向了。\n",
    "\n",
    "\n",
    "<img align=\"center\" src=\"images/3.30.png\"/>\n",
    "\n",
    "我们在 3D 试图中会产生错觉，使得更多的值来计算而不是目测它们。\n",
    "\n",
    "另一个例子，向量 `(2, 3)` 和 `(4, 5)` 在平面中有着相似的方向，向量点积为 `2 * 4  + 3 * 5 = 23` 。\n",
    "\n",
    "<img align=\"center\" src=\"images/3.31.png\"/>\n",
    "\n",
    "在 Python 中，我们编写向量点积函数来处理一堆向量："
   ]
  },
  {
   "cell_type": "code",
   "execution_count": 28,
   "metadata": {},
   "outputs": [],
   "source": [
    "def scale(scalar, v):\n",
    "    return tuple(scalar * coord for coord in v)\n",
    "\n",
    "\n",
    "def dot(u, v):\n",
    "    return sum([coord1 * coord2 for coord1, coord2 in zip(u, v)])"
   ]
  },
  {
   "cell_type": "code",
   "execution_count": 17,
   "metadata": {},
   "outputs": [
    {
     "data": {
      "text/plain": [
       "0"
      ]
     },
     "execution_count": 17,
     "metadata": {},
     "output_type": "execute_result"
    }
   ],
   "source": [
    "dot((1,0), (0,2))"
   ]
  },
  {
   "cell_type": "code",
   "execution_count": 18,
   "metadata": {},
   "outputs": [
    {
     "data": {
      "text/plain": [
       "0"
      ]
     },
     "execution_count": 18,
     "metadata": {},
     "output_type": "execute_result"
    }
   ],
   "source": [
    "dot((0,3,0),(0,0,-5))"
   ]
  },
  {
   "cell_type": "code",
   "execution_count": 16,
   "metadata": {},
   "outputs": [
    {
     "data": {
      "text/plain": [
       "18"
      ]
     },
     "execution_count": 16,
     "metadata": {},
     "output_type": "execute_result"
    }
   ],
   "source": [
    "dot((3,4), (2,3))"
   ]
  },
  {
   "cell_type": "code",
   "execution_count": 29,
   "metadata": {},
   "outputs": [
    {
     "data": {
      "text/plain": [
       "36"
      ]
     },
     "execution_count": 29,
     "metadata": {},
     "output_type": "execute_result"
    }
   ],
   "source": [
    "dot(scale(2,(3,4)),(2,3))"
   ]
  },
  {
   "cell_type": "code",
   "execution_count": 30,
   "metadata": {},
   "outputs": [
    {
     "data": {
      "text/plain": [
       "36"
      ]
     },
     "execution_count": 30,
     "metadata": {},
     "output_type": "execute_result"
    }
   ],
   "source": [
    "dot((3,4),scale(2,(2,3)))"
   ]
  },
  {
   "cell_type": "markdown",
   "metadata": {},
   "source": [
    "<img align=\"center\" src=\"images/3.32.png\"/>"
   ]
  },
  {
   "cell_type": "markdown",
   "metadata": {},
   "source": [
    "## 3.3.4 用向量点积测量夹角\n",
    "\n",
    "已经介绍了向量积因为我们说了这有助于测量向量夹角，我们做的差不多了。我们看到向量点积从 1 到 -1 倍的范围作为向量从 0 到 180° 的夹角。我们已经看到余弦函数来实现：\n",
    "\n",
    "原来向量点积有另一个公式，当 `|u|` 和 `|v|` 表示向量长度，向量点积则为：\n",
    "```\n",
    "u ∙ v = |u| ∙ |v| ∙ cos(θ)\n",
    "```\n",
    "\n",
    "θ 为两个向量的夹角，原则上提供了计算向量点积的新的方式。我们能测量两个向量的长度和夹角来获得结果。假设我们知道两个向量的长度分别为 3 和 2 ，并使用量角器测量得角度相隔 75° 。\n",
    "\n",
    "<img align=\"center\" src=\"images/3.33.png\"/>\n",
    "\n",
    "向量点积为 `3 ∙ 2 ∙ cos(75°)` ，适当的转换为弧度，在 Python 中计算得出大约为 1.55："
   ]
  },
  {
   "cell_type": "code",
   "execution_count": 38,
   "metadata": {},
   "outputs": [
    {
     "data": {
      "text/plain": [
       "1.5529142706151244"
      ]
     },
     "execution_count": 38,
     "metadata": {},
     "output_type": "execute_result"
    }
   ],
   "source": [
    "from math import cos, pi\n",
    "\n",
    "3 * 2 * cos(75 * pi / 180)"
   ]
  },
  {
   "cell_type": "markdown",
   "metadata": {},
   "source": [
    "当通过向量计算，更常见的是通过坐标来计算夹角。当我们结合公式成一个角度：首先我们使用坐标计算向量点积和长度，然后解决角度。\n",
    "\n",
    "让我们尝试找出 (3, 4) 和 (4, 3) 之间的角度，他们的向量点积为 24 ，每一个长度为 5 。我们新的向量点积公式告诉我们：\n",
    "```\n",
    "(3,4) ∙ (4,3) = 24 = 5 ∙ 5 ∙ cos(θ) = 25 ∙ cos(θ)\n",
    "```\n",
    "\n",
    "从 `24 = 25 ∙ cos(θ)` 我们得知 `cos(θ) = 24/25` 。使用 Python 计算得出 `θ` 的值为 0.284 弧度或者 16.3 角度。"
   ]
  },
  {
   "cell_type": "code",
   "execution_count": 40,
   "metadata": {},
   "outputs": [
    {
     "data": {
      "text/plain": [
       "0.283794109208328"
      ]
     },
     "execution_count": 40,
     "metadata": {},
     "output_type": "execute_result"
    }
   ],
   "source": [
    "from math import acos\n",
    "acos(24/25)"
   ]
  },
  {
   "cell_type": "markdown",
   "metadata": {},
   "source": [
    "这个练习提醒我们为什么在 2D 中不需要向量点积：我们已经找出公式来获取角度了。通过它，我们可以在想要的平面上快速的找到任何角度。向量点积真正用途在 3D ，坐标的变化不能为我们提供太多帮助。\n",
    "\n",
    "例如，我们使用公式来找出 `(1, 2, 2)` 和 `(2, 2, 1)` 的角度，他们的向量点积是 `1*2 + 2*2 + 2*1 = 8 `，长度都是 `3` 。意味着 `8 = 3 ∙ 3 ∙ cos(θ)` ，因此 `cos(θ) = 8/9` ，`θ = 0.476` 弧度或者 `27.3` 角度。"
   ]
  },
  {
   "cell_type": "code",
   "execution_count": 42,
   "metadata": {},
   "outputs": [
    {
     "data": {
      "text/plain": [
       "0.47588224966041665"
      ]
     },
     "execution_count": 42,
     "metadata": {},
     "output_type": "execute_result"
    }
   ],
   "source": [
    "acos(8/9)"
   ]
  },
  {
   "cell_type": "markdown",
   "metadata": {},
   "source": [
    "在 2D 或者 3D 过程是一样的，我们可以省一些力气来在 Python 中实现函数来找到两个向量的夹角。因为我们的向量点积和长度函数都没有硬编码的维度，这个新的函数也不会有。我们可以使用 `u ∙ v = |u| ∙ |v| ∙ cos(θ)`：\n",
    "\n",
    "<img align=\"center\" src=\"images/3.33.1.png\"/>\n",
    "\n",
    "以及：\n",
    "\n",
    "<img align=\"center\" src=\"images/3.33.2.png\"/>\n",
    "\n",
    "这个公式转换成 Python 代码如下："
   ]
  },
  {
   "cell_type": "code",
   "execution_count": 44,
   "metadata": {},
   "outputs": [],
   "source": [
    "def angle_between(v1, v2):\n",
    "    return acos(dot(v1, v2) / (length(v1) * length(v2)))"
   ]
  },
  {
   "cell_type": "markdown",
   "metadata": {},
   "source": [
    "## 3.3.5 练习\n",
    "\n",
    "- 基于下图，将 u ∙ v, u ∙ w, 和 v ∙ w 从大到小排列。\n",
    "\n",
    "<img align=\"center\" src=\"images/3.34.png\"/>\n",
    "\n",
    "解答：\n",
    "\n",
    "> 只有 u ∙ v  是同向向量点积，因为他们是唯一一对夹角小于 90° 的。此外， u ∙ w 的向量点积比 v ∙ w 更小。因此 u ∙ v >  v ∙ w >  u ∙ w 。\n",
    "\n",
    "- (-1, -1, 1) 和 (1, 2, 1) 的向量点积是什么？这两个 3D 向量夹角超过 90° ，还是小于 90°  ，或者恰好 90° 吗？\n",
    "\n",
    "解答\n",
    "> 向量点积是 `-1 * 1 + -1 * 2 + 1 * 1 = -2` ，因为是负数，所以夹角超过 90° 。\n",
    "\n",
    "- 小项目：这个练习有两个 3D 向量 u, v ，并且 (2u) ∙ v  = u ∙ (2v) = 2(u ∙ v) 。这种情况下 u ∙ v = 18 ，并且 (2u) ∙ v  = u ∙ (2v)  = 36 ，是开始的两倍。表明这是任何实数 s ，不仅仅是 2 。换句话说，表明任意 s 的值 (su) ∙ v 和 u ∙ (sv)  都等于 s(u ∙ v) 。\n",
    "\n",
    "解答\n",
    "\n",
    "> 我们命名 u 和 v 的坐标，u = (a,b,c) ， v = (d,e,f) 。然后 u ∙ v = ad + be + cf 。 因为 su = (sa,sb,sc) ， sv = (sd,se,sf) ，进而通过向量点积知道结果：\n",
    "\n",
    "><img align=\"center\" src=\"images/3.35.png\"/>\n",
    "<img align=\"center\" src=\"images/3.36.png\"/>\n",
    "\n",
    "- 小项目：用代数方法解释为什么一个向量的点积本身就是它的长度的平方。\n",
    "\n",
    "解答\n",
    "> `(a, b, c) ∙ (a, b, c) = (a**a + b** b, c**c)`\n"
   ]
  },
  {
   "cell_type": "markdown",
   "metadata": {},
   "source": [
    "# 3.4 向量叉积：测量定向面积\n",
    "\n",
    "向量叉积是两个向量通过运算之后生成新的向量：`u × v` 。这类似向量点积中的确定长度和方向之后的输出，但是不同的是它输出的不是大小，而是方向。我们需要思考一下 3D 方向的概念来理解向量叉积。\n",
    "\n",
    "## 3.4.1 在 3D 中定位自身\n",
    "\n",
    "我们在开头介绍了 x, y, z 轴，说了两点，第一是平面存在于 3D 空间中；第二是 z 轴的方向垂直于 x, y 平面。但并没有说清楚 z 轴的方向是向上还是向下。\n",
    "\n",
    "<img align=\"center\" src=\"images/3.37.png\"/>\n",
    "\n",
    "现实中很多东西是有方向的，并没有看起来完全相同的镜像。例如，左右两只鞋子有相同的尺码，但方向不同。一个咖啡杯并没有方向，我们无法通过两张图片来确定他们的不同，但是可以通过杯子的两侧区分。\n",
    "\n",
    "<img align=\"center\" src=\"images/3.38.png\"/>\n",
    "\n",
    "## 3.4.2 找出向量叉积的方向\n",
    "\n",
    "在告诉你如何计算向量叉积之前，先让你知道它看起来像什么。给定两个向量，它们的向量叉积的结果垂直于它们。例如，如果 `u = (1,0,0)` ， `v = (0,1,0)` ，那么向量叉积 `u × v = (0,0,1)` 。\n",
    "\n",
    "\n",
    "<img align=\"center\" src=\"images/3.41.png\"/>\n",
    "\n",
    "事实上，在 x, y 平面是行的任意两个向量都拥有沿着 z 轴的**向量叉积**。\n",
    "\n",
    "\n",
    "<img align=\"center\" src=\"images/3.42.png\"/>\n",
    "\n",
    "这就很清楚为什么向量叉积不在 2D 平面上了：它返回的向量是沿着两个输入向量组成的平面。如果输入的两个向量不是沿着 x, y 轴，我们也可以看到向量叉积输出的向量垂直于这两个向量。\n",
    "\n",
    "<img align=\"center\" src=\"images/3.43.png\"/>\n",
    "\n",
    "但是可能有连个垂直的方向，向量叉积只选择一个。例如 `(1,0,0) × (0,1,0)` 的结果指向了正的方向。任何在 z 轴的向量，正的和负的，将垂直于亮个输入向量。为什么结果会指向正的呢？\n",
    "\n",
    "这就是定向的切入点：向量叉积也遵循右手法则。一旦建立了 u 和 v 这两个输入向量的垂直定位，向量叉积 u × v 指向第三个向量，并且是右手结构。那就是食指表示 u ，其他卷曲的手指表示 y ，拇指指向 u×v 。\n",
    "\n",
    "<img align=\"center\" src=\"images/3.44.png\"/>\n",
    "\n",
    "## 3.4.3 找出向量叉积的长度\n",
    "\n",
    "类似向量点积，向量叉积的长度是两个输入向量相对位置所决定的。向量叉积的长度等于两个输入向量的面积：\n",
    "\n",
    "<img align=\"center\" src=\"images/3.45.png\"/>\n",
    "\n",
    "由 u 和 v 组成的平行四边形的面积就是他们的向量叉积的长度 u × v 。\n",
    "\n",
    "<img align=\"center\" src=\"images/3.46.png\"/>\n",
    "\n",
    "三角公式应用在平行四边形上，如果 u 和 v 分开的夹角是 θ ，面积就是 `|u| ∙ |v| ∙ sin(θ)` 。\n",
    "\n",
    "## 3.4.4 计算向量叉积\n",
    "\n",
    "```\n",
    "u × v = (uyvz - uzvy, uzvx - vzux, uxvy - uyvx)\n",
    "```\n",
    "\n",
    "在 Python 中表示为："
   ]
  },
  {
   "cell_type": "code",
   "execution_count": 2,
   "metadata": {},
   "outputs": [],
   "source": [
    "def cross(u, v):\n",
    "    ux, uy, uz = u\n",
    "    vx, vy, vz = v\n",
    "    return (uy*vz - uz*vy, uz*vx - ux*vz, ux*vy - uy*vx)"
   ]
  },
  {
   "cell_type": "markdown",
   "metadata": {},
   "source": [
    "<img align=\"center\" src=\"images/3.47.png\"/>"
   ]
  },
  {
   "cell_type": "markdown",
   "metadata": {},
   "source": [
    "# 3.5 在 2D 中渲染 3D\n",
    "\n",
    "<img align=\"center\" src=\"images/3.55.png\"/>\n",
    "\n",
    "<img align=\"center\" src=\"images/3.56.png\"/>\n",
    "\n",
    "\n",
    "## 用向量来定义　3D\n",
    "\n",
    "八面体是一个简单的例子，我们列出三个正向量 ` (1,0,0), (0,1,0), (0,0,1)` 。\n",
    "\n",
    "<img align=\"center\" src=\"images/3.57.png\"/>\n",
    "\n",
    "<img align=\"center\" src=\"images/3.58.png\"/>\n",
    "\n",
    "这八面体的两个顶点分别是 ` (0,0,1) `，` (0,0,-1) ` 。\n",
    "\n",
    "这里有个策略：我们用三个向量模拟三角形表面，`(v2 - v1) × (v3 - v1) ` 指向八面体的外边。如果外部指向的向量指向我们，则表示这个表面是可见的。否则是隐藏的，我们不需要绘制它。 \n",
    "\n",
    "<img align=\"center\" src=\"images/3.59.png\"/>\n",
    "\n",
    "我们定义八个三角面如下："
   ]
  },
  {
   "cell_type": "code",
   "execution_count": 9,
   "metadata": {},
   "outputs": [],
   "source": [
    "octahedron = [\n",
    "    [(1, 0, 0), (0, 1, 0), (0, 0, 1)],\n",
    "    [(1, 0, 0), (0, 0, -1), (0, 1, 0)],\n",
    "    [(1, 0, 0), (0, 0, 1), (0, -1, 0)],\n",
    "    [(1, 0, 0), (0, -1, 0), (0, 0, -1)],\n",
    "    [(-1, 0, 0), (0, 0, 1), (0, 1, 0)],\n",
    "    [(-1, 0, 0), (0, 1, 0), (0, 0, -1)],\n",
    "    [(-1, 0, 0), (0, -1, 0), (0, 0, 1)],\n",
    "    [(-1, 0, 0), (0, 0, -1), (0, -1, 0)],\n",
    "]"
   ]
  },
  {
   "cell_type": "markdown",
   "metadata": {},
   "source": [
    "表面只有数据，我们需要渲染它的形状。数据包含了边缘和顶点。例如我们可以用这个函数获取边缘。"
   ]
  },
  {
   "cell_type": "code",
   "execution_count": 10,
   "metadata": {},
   "outputs": [],
   "source": [
    "def vertices(faces):\n",
    "    return list(set([vertex for face in faces for vertex in face]))"
   ]
  },
  {
   "cell_type": "markdown",
   "metadata": {},
   "source": [
    "## 3.5.2 投射到 2D\n",
    "\n",
    "将 3D 投射到 2D ，我们需要选择观察点，从我们的透视角定义了两个 3D 向量来定义“up”和“right”。我们可以将任何 3D 向量投射到他们上面并获取两个组件，而不是三个。下面的函数用向量点积来提取 3D 向量给定的指向。"
   ]
  },
  {
   "cell_type": "code",
   "execution_count": 12,
   "metadata": {},
   "outputs": [],
   "source": [
    "def component(v, direction):\n",
    "    return (dot(v, direction) / length(direction))"
   ]
  },
  {
   "cell_type": "markdown",
   "metadata": {},
   "source": [
    "通过两个方向的硬编码，我们可以将  (1,0,0)  和 (0,1,0) 建立从三个坐标到两个坐标的投射："
   ]
  },
  {
   "cell_type": "code",
   "execution_count": 13,
   "metadata": {},
   "outputs": [],
   "source": [
    "def vector_to_2d(v):\n",
    "    return (component(v, (1, 0, 0)), component(v, (0, 1, 0)))"
   ]
  },
  {
   "cell_type": "markdown",
   "metadata": {},
   "source": [
    "我们可以绘制“平整”的 3D 向量到平面上，去除向量原有的 z 轴的深度：\n",
    "\n",
    "<img align=\"center\" src=\"images/3.60.png\"/>\n",
    "\n",
    "最后，把一个三角形从 3D 到 2D，我们只需应用到所有的顶点来定义表面。"
   ]
  },
  {
   "cell_type": "code",
   "execution_count": 14,
   "metadata": {},
   "outputs": [],
   "source": [
    "def face_to_2d(face):\n",
    "    return [vector_to_2d(vertex) for vertex in face]"
   ]
  },
  {
   "cell_type": "markdown",
   "metadata": {},
   "source": [
    "## 3.5.3 定向表面和阴影\n",
    "\n",
    "绘制 2D 上的阴影，我们工具每个三角形面临多少光源来选取颜色。假设我们的光源对应原点的位置是 (1, 2, 3) ，三角的亮度取决于它的高度，另一种方法是通过对齐垂直向量到面向的光源来测量。\n",
    "\n",
    "我们还没有考虑到有颜色的计算，`matplotlib` 内置了这个库，例如："
   ]
  },
  {
   "cell_type": "code",
   "execution_count": 20,
   "metadata": {},
   "outputs": [],
   "source": [
    "import matplotlib.cm\n",
    "\n",
    "blues = matplotlib.cm.get_cmap('Blues')"
   ]
  },
  {
   "cell_type": "code",
   "execution_count": 21,
   "metadata": {},
   "outputs": [],
   "source": [
    "def unit(v):\n",
    "     return scale(1./length(v), v)"
   ]
  },
  {
   "cell_type": "code",
   "execution_count": 23,
   "metadata": {},
   "outputs": [],
   "source": [
    "def normal(face):\n",
    "    return(cross(subtract(face[1], face[0]), subtract(face[2], face[0])))"
   ]
  },
  {
   "cell_type": "code",
   "execution_count": 24,
   "metadata": {},
   "outputs": [],
   "source": [
    "def render(faces, light=(1, 2, 3), color_map=blues, lines=None):\n",
    "    polygons = []\n",
    "    for face in faces:\n",
    "        unit_normal = unit(normal(face))\n",
    "        if unit_normal[2] > 0:\n",
    "            c = color_map(1 - dot(unit(normal(face)), unit(light)))\n",
    "            p = Polygon2D(*face_to_2d(face), fill=c, color=lines)\n",
    "            polygons.append(p)\n",
    "    draw2d(*polygons, axes=False, origin=False, grid=None)\n",
    "# 1For each face, compute a vector of length 1 perpendicular to it.\n",
    "# 2Only proceed if the z-component of this vector is positive, or in other words if it points toward the viewer.\n",
    "# 3The larger the dot product between the normal vector and the light source vector, the less shading."
   ]
  },
  {
   "cell_type": "markdown",
   "metadata": {},
   "source": [
    "```Python\n",
    "screen = Plane((-2, -2), (2, 2), \"screen\")\n",
    "render(screen, octahedron, lines='k')\n",
    "screen.show()\n",
    "```\n",
    "\n",
    "\n",
    "<img align=\"center\" src=\"images/3.62.png\"/>\n",
    "\n",
    "\n",
    "<img align=\"center\" src=\"images/3.63.png\"/>"
   ]
  },
  {
   "cell_type": "markdown",
   "metadata": {},
   "source": [
    "# 总结\n",
    "\n",
    "- 2D 向量只有长度和广度，3D 向量还有深度。\n",
    "- 三维向量定义为三元组的数字被称为 x, y, z 坐标。他们告诉我们如何远离原点，我们需要在每个方向去获取 3D 。\n",
    "- 3D 是 2D 的扩展，通过勾股定理的推理来找到其长度。\n",
    "- 向量点积是两个向量乘法的扩展，可以通过他们的值找到之间的夹角。\n",
    "- 向量叉积获取与两个向量垂直的第三个向量，向量叉积的长度是两个输入向量所组成的平行四边形的面积。\n",
    "- 我们可以通过三角形的表面来表示任何 3D 对象，每个三角形都是 独立的通过三个向量来定义其边缘。\n",
    "- 使用向量叉积，我们可以确定哪个方向的三角形是可见的。"
   ]
  }
 ],
 "metadata": {
  "kernelspec": {
   "display_name": "Python 3",
   "language": "python",
   "name": "python3"
  },
  "language_info": {
   "codemirror_mode": {
    "name": "ipython",
    "version": 3
   },
   "file_extension": ".py",
   "mimetype": "text/x-python",
   "name": "python",
   "nbconvert_exporter": "python",
   "pygments_lexer": "ipython3",
   "version": "3.7.3"
  },
  "toc": {
   "base_numbering": 1,
   "nav_menu": {},
   "number_sections": true,
   "sideBar": true,
   "skip_h1_title": false,
   "title_cell": "Table of Contents",
   "title_sidebar": "Contents",
   "toc_cell": false,
   "toc_position": {},
   "toc_section_display": true,
   "toc_window_display": false
  }
 },
 "nbformat": 4,
 "nbformat_minor": 2
}
