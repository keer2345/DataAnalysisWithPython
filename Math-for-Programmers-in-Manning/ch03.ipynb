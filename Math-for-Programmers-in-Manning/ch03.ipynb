{
 "cells": [
  {
   "cell_type": "markdown",
   "metadata": {},
   "source": [
    "**Chapter 03 Ascending to the 3D World**\n",
    "\n",
    "> nasitery【】yandex.ru / 123456\n",
    "\n",
    "本章讲述：\n",
    "- 为 3D 向量构建神经模型\n",
    "- 3D 向量算法\n",
    "- 用向量点积（dot product）和向量叉积（cross product）测量长度和方向\n",
    "- 在 2D 中渲染 3D 对象\n",
    "\n",
    "\n",
    "2D 的圆加上阴影，看起来就向 3D 的球体：\n",
    "<img align=\"center\" src=\"images/3.1.png\"/>\n",
    "\n",
    "画一个阴影使用许多小球体,纯粹的三角形：\n",
    "<img align=\"center\" src=\"images/3.2.png\"/>\n",
    "\n",
    "\n",
    "# 3.1 在三维空间中绘制向量\n",
    "\n",
    "2D 平面中表示长和宽：\n",
    "<img align=\"center\" src=\"images/3.3.png\"/>\n",
    "\n",
    "3D 空间中的长宽高：\n",
    "<img align=\"center\" src=\"images/3.4.png\"/>\n",
    "\n",
    "3D 空间中的 2D 向量 `(4, 3)`：\n",
    "\n",
    "<img align=\"center\" src=\"images/3.5.png\"/>\n",
    "\n",
    "扩展到 3D 空间中的向量：\n",
    "<img align=\"center\" src=\"images/3.6.png\"/>\n",
    "\n",
    "## 3.1.1 用坐标表示 3D 向量\n",
    "\n",
    "\n",
    "<img align=\"center\" src=\"images/3.7.png\"/>\n",
    "<img align=\"center\" src=\"images/3.8.png\"/>\n",
    "\n",
    "## 3.1.2 在 Python 中绘制 3D 向量\n",
    "\n",
    "```\n",
    "draw3d()\n",
    "```\n",
    "<img align=\"center\" src=\"images/3.9.png\"/>\n",
    "\n",
    "\n",
    "```python\n",
    "draw3d(\n",
    "     Points3D((2,2,2),(1,-2,-2))\n",
    " )\n",
    "```\n",
    "<img align=\"center\" src=\"images/3.10.png\"/>\n",
    "\n",
    "```python\n",
    "draw3d(\n",
    "     Points3D((2,2,2),(1,-2,-2)),\n",
    "     Arrow3D((2,2,2)),\n",
    "     Arrow3D((1,-2,-2)),\n",
    "     Segment3D((2,2,2), (1,-2,-2))\n",
    " )\n",
    "```\n",
    "\n",
    "<img align=\"center\" src=\"images/3.11.png\"/>\n",
    "\n",
    "```python\n",
    "draw3d(\n",
    "     Points3D((2,2,2),(1,-2,-2)),\n",
    "     Arrow3D((2,2,2)),\n",
    "     Arrow3D((1,-2,-2)),\n",
    "     Segment3D((2,2,2), (1,-2,-2)),\n",
    "     Box3D(2,2,2),\n",
    "     Box3D(1,-2,-2)\n",
    " )\n",
    "```\n",
    "\n",
    "<img align=\"center\" src=\"images/3.12.png\"/>\n",
    "\n",
    "```python\n",
    "pm1 = [1,-1]\n",
    " vertices = [(x,y,z) for x in pm1 for y in pm1 for z in pm1]\n",
    " edges = [((-1,y,z),(1,y,z)) for y in pm1 for z in pm1] +\\\n",
    "             [((x,-1,z),(x,1,z)) for x in pm1 for z in pm1] +\\\n",
    "             [((x,y,-1),(x,y,1)) for x in pm1 for y in pm1]\n",
    " draw3d(\n",
    "     Points3D(*vertices,color=blue),\n",
    "     *[Segment3D(*edge) for edge in edges]\n",
    " )\n",
    "````\n",
    "\n",
    "\n",
    "<img align=\"center\" src=\"images/3.14.png\"/>\n"
   ]
  },
  {
   "cell_type": "markdown",
   "metadata": {},
   "source": [
    "# 3.2 3D 向量算法\n",
    "\n",
    "## 3.2.1 3D 向量的加法\n",
    "\n",
    "<img align=\"center\" src=\"images/3.15.png\"/>\n",
    "\n",
    "<img align=\"center\" src=\"images/3.16.png\"/>\n",
    "\n",
    "在 Python 中，我们编写简明的函数来表示加法：\n"
   ]
  },
  {
   "cell_type": "code",
   "execution_count": 11,
   "metadata": {},
   "outputs": [],
   "source": [
    "def add(*vectors):\n",
    "     by_coordinate = zip(*vectors)\n",
    "     coordinate_sums = [sum(coords) for coords in by_coordinate]\n",
    "     return tuple(coordinate_sums)"
   ]
  },
  {
   "cell_type": "code",
   "execution_count": 8,
   "metadata": {},
   "outputs": [
    {
     "data": {
      "text/plain": [
       "<zip at 0x7f3134546988>"
      ]
     },
     "execution_count": 8,
     "metadata": {},
     "output_type": "execute_result"
    }
   ],
   "source": [
    "zip(*[(1,1,3),(2,4,-4),(4,2,-2)])"
   ]
  },
  {
   "cell_type": "code",
   "execution_count": 9,
   "metadata": {},
   "outputs": [
    {
     "data": {
      "text/plain": [
       "[(1, 2, 4), (1, 4, 2), (3, -4, -2)]"
      ]
     },
     "execution_count": 9,
     "metadata": {},
     "output_type": "execute_result"
    }
   ],
   "source": [
    "list(zip(*[(1,1,3),(2,4,-4),(4,2,-2)]))"
   ]
  },
  {
   "cell_type": "code",
   "execution_count": 10,
   "metadata": {},
   "outputs": [
    {
     "data": {
      "text/plain": [
       "[7, 7, -3]"
      ]
     },
     "execution_count": 10,
     "metadata": {},
     "output_type": "execute_result"
    }
   ],
   "source": [
    "[sum(coords) for coords in [(1, 2, 4), (1, 4, 2), (3, -4, -2)]]"
   ]
  },
  {
   "cell_type": "code",
   "execution_count": 13,
   "metadata": {},
   "outputs": [],
   "source": [
    "def add(*vectors):\n",
    "     return tuple(map(sum,zip(*vectors)))"
   ]
  },
  {
   "cell_type": "markdown",
   "metadata": {},
   "source": [
    "我们可以简写成："
   ]
  },
  {
   "cell_type": "code",
   "execution_count": 14,
   "metadata": {},
   "outputs": [
    {
     "data": {
      "text/plain": [
       "(7, 7, -3)"
      ]
     },
     "execution_count": 14,
     "metadata": {},
     "output_type": "execute_result"
    }
   ],
   "source": [
    "add(*[(1,1,3),(2,4,-4),(4,2,-2)])"
   ]
  },
  {
   "cell_type": "markdown",
   "metadata": {},
   "source": [
    "## 3.2.2   3D 乘法\n",
    "\n",
    "两倍向量：v = (1,2,3) ， 2v = (2,4,6)\n",
    "\n",
    "<img align=\"center\" src=\"images/3.17.png\"/>\n",
    "\n",
    "## 3.2.3 3D 减法\n",
    "\n",
    "向量相减：v = (-1,-3,3) ， w = (3,2,4)\n",
    "\n",
    "<img align=\"center\" src=\"images/3.18.png\"/>\n",
    "\n",
    "## 3.2.4 计算向量长度和距离\n",
    "\n",
    "\n",
    "<img align=\"center\" src=\"images/3.19.png\"/>\n",
    "\n",
    "<img align=\"center\" src=\"images/3.20.png\"/>\n",
    "\n",
    "<img align=\"center\" src=\"images/3.21.png\"/>"
   ]
  },
  {
   "cell_type": "code",
   "execution_count": 4,
   "metadata": {},
   "outputs": [],
   "source": [
    "from math import sqrt\n",
    "\n",
    "\n",
    "def length(v):\n",
    "    return sqrt(sum([coord ** 2 for coord in v]))"
   ]
  },
  {
   "cell_type": "code",
   "execution_count": 5,
   "metadata": {},
   "outputs": [
    {
     "data": {
      "text/plain": [
       "13.0"
      ]
     },
     "execution_count": 5,
     "metadata": {},
     "output_type": "execute_result"
    }
   ],
   "source": [
    "length((3,4,12))"
   ]
  },
  {
   "cell_type": "markdown",
   "metadata": {},
   "source": [
    "## 3.2.5 计算角度和方向\n",
    "\n",
    "在 2D 中，可以想得到 3D 向量是长度和方向作为箭头的位移。2D 中，意味着 2 个数字 —— 极坐标的长和角度 —— 足以表示 2D 向量。一个角度并不足以表示其方向，需要两个角度。\n",
    "\n",
    "<img align=\"center\" src=\"images/3.22.png\"/>\n",
    "\n",
    "## 3.2.6 练习\n",
    "\n",
    "```Python\n",
    ">>> add((4,0,3),(-1,0,1))\n",
    " (3, 0, 4)\n",
    "```   \n",
    "\n",
    "```Python\n",
    "draw3d(\n",
    "     Arrow3D((4,0,3),color=red),\n",
    "     Arrow3D((-1,0,1),color=blue),\n",
    "     Arrow3D((3,0,4),(4,0,3),color=blue),\n",
    "     Arrow3D((-1,0,1),(3,0,4),color=red),\n",
    "     Arrow3D((3,0,4),color=purple)\n",
    " )\n",
    "```\n",
    "\n",
    "\n",
    "<img align=\"center\" src=\"images/3.23.png\"/>"
   ]
  },
  {
   "cell_type": "code",
   "execution_count": 7,
   "metadata": {},
   "outputs": [],
   "source": [
    "from math import sin, cos, pi\n",
    "vs = [(sin(pi*t/6), cos(pi*t/6), 1.0/3) for t in range(0, 24)]"
   ]
  },
  {
   "cell_type": "markdown",
   "metadata": {},
   "source": [
    "```python\n",
    "from math import sin, cos, pi\n",
    "vs = [(sin(pi*t/6), cos(pi*t/6), 1.0/3) for t in range(0, 24)]\n",
    "\n",
    "running_sum = (0, 0, 0)\n",
    "arrows = []\n",
    "for v in vs:\n",
    "    next_sum = add(running_sum, v)\n",
    "    arrows.append(Arrow3D(next_sum, running_sum))\n",
    "    running_sum = next_sum\n",
    "print(running_sum)\n",
    "draw3d(*arrows)\n",
    "```"
   ]
  },
  {
   "cell_type": "markdown",
   "metadata": {},
   "source": [
    "<img align=\"center\" src=\"images/3.24.png\"/>"
   ]
  },
  {
   "cell_type": "markdown",
   "metadata": {},
   "source": [
    "# 3.3 向量点积：向量测量校准"
   ]
  }
 ],
 "metadata": {
  "kernelspec": {
   "display_name": "Python 3",
   "language": "python",
   "name": "python3"
  },
  "language_info": {
   "codemirror_mode": {
    "name": "ipython",
    "version": 3
   },
   "file_extension": ".py",
   "mimetype": "text/x-python",
   "name": "python",
   "nbconvert_exporter": "python",
   "pygments_lexer": "ipython3",
   "version": "3.7.3"
  },
  "toc": {
   "base_numbering": 1,
   "nav_menu": {},
   "number_sections": true,
   "sideBar": true,
   "skip_h1_title": false,
   "title_cell": "Table of Contents",
   "title_sidebar": "Contents",
   "toc_cell": false,
   "toc_position": {},
   "toc_section_display": true,
   "toc_window_display": false
  }
 },
 "nbformat": 4,
 "nbformat_minor": 2
}
