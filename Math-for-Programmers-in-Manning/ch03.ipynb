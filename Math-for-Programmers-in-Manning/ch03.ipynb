{
 "cells": [
  {
   "cell_type": "markdown",
   "metadata": {},
   "source": [
    "**Chapter 03 Ascending to the 3D World**\n",
    "\n",
    "> nasitery【】yandex.ru / 123456\n",
    "\n",
    "本章讲述：\n",
    "- 为 3D 向量构建神经模型\n",
    "- 3D 向量算法\n",
    "- 用向量点积（dot product）和向量叉积（cross product）测量长度和方向\n",
    "- 在 2D 中渲染 3D 对象\n",
    "\n",
    "\n",
    "2D 的圆加上阴影，看起来就向 3D 的球体：\n",
    "<img align=\"center\" src=\"images/3.1.png\"/>\n",
    "\n",
    "画一个阴影使用许多小球体,纯粹的三角形：\n",
    "<img align=\"center\" src=\"images/3.2.png\"/>\n",
    "\n",
    "\n",
    "# 3.1 在三维空间中绘制向量\n",
    "\n",
    "2D 平面中表示长和宽：\n",
    "<img align=\"center\" src=\"images/3.3.png\"/>\n",
    "\n",
    "3D 空间中的长宽高：\n",
    "<img align=\"center\" src=\"images/3.4.png\"/>\n",
    "\n",
    "3D 空间中的 2D 向量 `(4, 3)`：\n",
    "\n",
    "<img align=\"center\" src=\"images/3.5.png\"/>\n",
    "\n",
    "扩展到 3D 空间中的向量：\n",
    "<img align=\"center\" src=\"images/3.6.png\"/>\n",
    "\n",
    "## 3.1.1 用坐标表示 3D 向量\n",
    "\n",
    "\n",
    "<img align=\"center\" src=\"images/3.7.png\"/>\n",
    "<img align=\"center\" src=\"images/3.8.png\"/>\n",
    "\n",
    "## 3.1.2 在 Python 中绘制 3D 向量\n",
    "\n",
    "```\n",
    "draw3d()\n",
    "```\n",
    "<img align=\"center\" src=\"images/3.9.png\"/>\n",
    "\n",
    "\n",
    "```python\n",
    "draw3d(\n",
    "     Points3D((2,2,2),(1,-2,-2))\n",
    " )\n",
    "```\n",
    "<img align=\"center\" src=\"images/3.10.png\"/>\n",
    "\n",
    "```python\n",
    "draw3d(\n",
    "     Points3D((2,2,2),(1,-2,-2)),\n",
    "     Arrow3D((2,2,2)),\n",
    "     Arrow3D((1,-2,-2)),\n",
    "     Segment3D((2,2,2), (1,-2,-2))\n",
    " )\n",
    "```\n",
    "\n",
    "<img align=\"center\" src=\"images/3.11.png\"/>\n",
    "\n",
    "```python\n",
    "draw3d(\n",
    "     Points3D((2,2,2),(1,-2,-2)),\n",
    "     Arrow3D((2,2,2)),\n",
    "     Arrow3D((1,-2,-2)),\n",
    "     Segment3D((2,2,2), (1,-2,-2)),\n",
    "     Box3D(2,2,2),\n",
    "     Box3D(1,-2,-2)\n",
    " )\n",
    "```\n",
    "\n",
    "<img align=\"center\" src=\"images/3.12.png\"/>\n",
    "\n",
    "```python\n",
    "pm1 = [1,-1]\n",
    " vertices = [(x,y,z) for x in pm1 for y in pm1 for z in pm1]\n",
    " edges = [((-1,y,z),(1,y,z)) for y in pm1 for z in pm1] +\\\n",
    "             [((x,-1,z),(x,1,z)) for x in pm1 for z in pm1] +\\\n",
    "             [((x,y,-1),(x,y,1)) for x in pm1 for y in pm1]\n",
    " draw3d(\n",
    "     Points3D(*vertices,color=blue),\n",
    "     *[Segment3D(*edge) for edge in edges]\n",
    " )\n",
    "````\n",
    "\n",
    "\n",
    "<img align=\"center\" src=\"images/3.14.png\"/>\n"
   ]
  },
  {
   "cell_type": "markdown",
   "metadata": {},
   "source": [
    "# 3.2 3D 向量算法\n",
    "\n",
    "## 3.2.1 3D 向量的加法\n",
    "\n",
    "<img align=\"center\" src=\"images/3.15.png\"/>\n",
    "\n",
    "<img align=\"center\" src=\"images/3.16.png\"/>\n",
    "\n",
    "在 Python 中，我们编写简明的函数来表示加法：\n"
   ]
  },
  {
   "cell_type": "code",
   "execution_count": 11,
   "metadata": {},
   "outputs": [],
   "source": [
    "def add(*vectors):\n",
    "     by_coordinate = zip(*vectors)\n",
    "     coordinate_sums = [sum(coords) for coords in by_coordinate]\n",
    "     return tuple(coordinate_sums)"
   ]
  },
  {
   "cell_type": "code",
   "execution_count": 8,
   "metadata": {},
   "outputs": [
    {
     "data": {
      "text/plain": [
       "<zip at 0x7f3134546988>"
      ]
     },
     "execution_count": 8,
     "metadata": {},
     "output_type": "execute_result"
    }
   ],
   "source": [
    "zip(*[(1,1,3),(2,4,-4),(4,2,-2)])"
   ]
  },
  {
   "cell_type": "code",
   "execution_count": 9,
   "metadata": {},
   "outputs": [
    {
     "data": {
      "text/plain": [
       "[(1, 2, 4), (1, 4, 2), (3, -4, -2)]"
      ]
     },
     "execution_count": 9,
     "metadata": {},
     "output_type": "execute_result"
    }
   ],
   "source": [
    "list(zip(*[(1,1,3),(2,4,-4),(4,2,-2)]))"
   ]
  },
  {
   "cell_type": "code",
   "execution_count": 10,
   "metadata": {},
   "outputs": [
    {
     "data": {
      "text/plain": [
       "[7, 7, -3]"
      ]
     },
     "execution_count": 10,
     "metadata": {},
     "output_type": "execute_result"
    }
   ],
   "source": [
    "[sum(coords) for coords in [(1, 2, 4), (1, 4, 2), (3, -4, -2)]]"
   ]
  },
  {
   "cell_type": "code",
   "execution_count": 13,
   "metadata": {},
   "outputs": [],
   "source": [
    "def add(*vectors):\n",
    "     return tuple(map(sum,zip(*vectors)))"
   ]
  },
  {
   "cell_type": "markdown",
   "metadata": {},
   "source": [
    "我们可以简写成："
   ]
  },
  {
   "cell_type": "code",
   "execution_count": 14,
   "metadata": {},
   "outputs": [
    {
     "data": {
      "text/plain": [
       "(7, 7, -3)"
      ]
     },
     "execution_count": 14,
     "metadata": {},
     "output_type": "execute_result"
    }
   ],
   "source": [
    "add(*[(1,1,3),(2,4,-4),(4,2,-2)])"
   ]
  },
  {
   "cell_type": "markdown",
   "metadata": {},
   "source": [
    "## 3.2.2   3D 乘法\n",
    "\n",
    "两倍向量：v = (1,2,3) ， 2v = (2,4,6)\n",
    "\n",
    "<img align=\"center\" src=\"images/3.17.png\"/>\n",
    "\n",
    "## 3.2.3 3D 减法\n",
    "\n",
    "向量相减：v = (-1,-3,3) ， w = (3,2,4)\n",
    "\n",
    "<img align=\"center\" src=\"images/3.18.png\"/>\n",
    "\n",
    "## 3.2.4 计算向量长度和距离\n",
    "\n",
    "\n",
    "<img align=\"center\" src=\"images/3.19.png\"/>\n",
    "\n",
    "<img align=\"center\" src=\"images/3.20.png\"/>\n",
    "\n",
    "<img align=\"center\" src=\"images/3.21.png\"/>"
   ]
  },
  {
   "cell_type": "code",
   "execution_count": 4,
   "metadata": {},
   "outputs": [],
   "source": [
    "from math import sqrt\n",
    "\n",
    "\n",
    "def length(v):\n",
    "    return sqrt(sum([coord ** 2 for coord in v]))"
   ]
  },
  {
   "cell_type": "code",
   "execution_count": 5,
   "metadata": {},
   "outputs": [
    {
     "data": {
      "text/plain": [
       "13.0"
      ]
     },
     "execution_count": 5,
     "metadata": {},
     "output_type": "execute_result"
    }
   ],
   "source": [
    "length((3,4,12))"
   ]
  },
  {
   "cell_type": "markdown",
   "metadata": {},
   "source": [
    "## 3.2.5 计算角度和方向\n",
    "\n",
    "在 2D 中，可以想得到 3D 向量是长度和方向作为箭头的位移。2D 中，意味着 2 个数字 —— 极坐标的长和角度 —— 足以表示 2D 向量。一个角度并不足以表示其方向，需要两个角度。\n",
    "\n",
    "<img align=\"center\" src=\"images/3.22.png\"/>\n",
    "\n",
    "## 3.2.6 练习\n",
    "\n",
    "```Python\n",
    ">>> add((4,0,3),(-1,0,1))\n",
    " (3, 0, 4)\n",
    "```   \n",
    "\n",
    "```Python\n",
    "draw3d(\n",
    "     Arrow3D((4,0,3),color=red),\n",
    "     Arrow3D((-1,0,1),color=blue),\n",
    "     Arrow3D((3,0,4),(4,0,3),color=blue),\n",
    "     Arrow3D((-1,0,1),(3,0,4),color=red),\n",
    "     Arrow3D((3,0,4),color=purple)\n",
    " )\n",
    "```\n",
    "\n",
    "\n",
    "<img align=\"center\" src=\"images/3.23.png\"/>"
   ]
  },
  {
   "cell_type": "code",
   "execution_count": 7,
   "metadata": {},
   "outputs": [],
   "source": [
    "from math import sin, cos, pi\n",
    "vs = [(sin(pi*t/6), cos(pi*t/6), 1.0/3) for t in range(0, 24)]"
   ]
  },
  {
   "cell_type": "markdown",
   "metadata": {},
   "source": [
    "```python\n",
    "from math import sin, cos, pi\n",
    "vs = [(sin(pi*t/6), cos(pi*t/6), 1.0/3) for t in range(0, 24)]\n",
    "\n",
    "running_sum = (0, 0, 0)\n",
    "arrows = []\n",
    "for v in vs:\n",
    "    next_sum = add(running_sum, v)\n",
    "    arrows.append(Arrow3D(next_sum, running_sum))\n",
    "    running_sum = next_sum\n",
    "print(running_sum)\n",
    "draw3d(*arrows)\n",
    "```"
   ]
  },
  {
   "cell_type": "markdown",
   "metadata": {},
   "source": [
    "<img align=\"center\" src=\"images/3.24.png\"/>"
   ]
  },
  {
   "cell_type": "markdown",
   "metadata": {},
   "source": [
    "# 3.3 向量点积：向量测量校准\n",
    "\n",
    "我们已经向量的一种乘法是**标量乘法**，绑定一个标量（一个真实数字）和向量来获取新的向量。我们还没有讨论向量之间的乘法。原来有两个重要的方法来这样多，他们都是重要的几何学。一种称为向量点积（dot product），我们写做 `u · v` ，另一种称为向量叉积（cross product），写做 ` u × v` 。\n",
    "\n",
    "当我们乘以数字，两个乘法符号意思是一样的。但对于向量，意思却完全不同。事实上，向量点积让两个向量返回一个标量，而向量叉积让两个向量返回一个新的向量。当然，这些操作都将有助于我们对 3D 向量长度和方向的思考。让我们开始了解向量点积吧。\n",
    "\n",
    "## 3.3.1 向量点积的图形\n",
    "\n",
    "向量点积（通常也称为内积　inner product）是操作两个向量返回一个标量。换句话说，给两个向量　*u* 和　*v* ， `u · v` 返回一个实数。向量点积工作在 2D ，3D 或者其他任意维度上。可以认为是测量“排列方式（how aligned）”的成对向量输入。我们看看平面上 x, y 的一些向量，展示他们的向量点积。\n",
    "\n",
    "这两个向量 u 和 v 分别是长度 4 和 5 ，他们有几乎同样的方向。他们的向量点积是整数，意思为他们是一致的。\n",
    "\n",
    "<img align=\"center\" src=\"images/3.25.png\"/>\n",
    "\n",
    "这两个向量指向相同的方向，拥有同向的向量点积，并且向量越大点积越大。但是仍然是同向的。下图是两个长度为 2 的向量：\n",
    "\n",
    "\n",
    "<img align=\"center\" src=\"images/3.26.png\"/>\n",
    "\n",
    "相应的，如果两个向量方向是相反的，或者近乎相反的，向量点积则是负数。向量越大，向量点积负数也越大。\n",
    "\n",
    "<img align=\"center\" src=\"images/3.27.png\"/>\n",
    "\n",
    "<img align=\"center\" src=\"images/3.28.png\"/>\n",
    "\n",
    "并不是所有的向量都有相似或相反的方向，如果两个向量是垂直的，他们的向量点积不管长度如何都是 0 。\n",
    "\n",
    "<img align=\"center\" src=\"images/3.29.png\"/>\n",
    "\n",
    "这是向量点积中最重要的应用：它使我们对三角形的垂直向量不做任何计算。这种垂直情况下也与其他情况分开：如果两个向量夹角小于 90° ，将是同向向量；如果超过 90° ，则为反向向量。当没有告诉你如何计算向量点积时，选择已经知道如何解释它们了。接下来我们讲解计算。\n",
    "\n",
    "## 3.3.2 计算向量点积\n",
    "\n",
    "给定两个 向量的坐标，很容易计算向量点积：乘以响应的坐标然后相加。\n",
    "\n",
    "例如 `(1, 2, -1) · (3, 0, 3)` ， x 坐标是 3 ，y  坐标是0 ，z 坐标是 -3 。它们的和为 `3 + 0 + (-3)= 0` 。因此这个向量点积为 0 。如果继续推论，这两个向量应该垂直，绘制它们来证明这一点，但是你已经看到它们的正确方向了。\n",
    "\n",
    "\n",
    "<img align=\"center\" src=\"images/3.30.png\"/>\n",
    "\n",
    "我们在 3D 试图中会产生错觉，使得更多的值来计算而不是目测它们。\n",
    "\n",
    "另一个例子，向量 `(2, 3)` 和 `(4, 5)` 在平面中有着相似的方向，向量点积为 `2 * 4  + 3 * 5 = 23` 。\n",
    "\n",
    "<img align=\"center\" src=\"images/3.31.png\"/>\n",
    "\n",
    "在 Python 中，我们编写向量点积函数来处理一堆向量："
   ]
  },
  {
   "cell_type": "code",
   "execution_count": 28,
   "metadata": {},
   "outputs": [],
   "source": [
    "def scale(scalar, v):\n",
    "    return tuple(scalar * coord for coord in v)\n",
    "\n",
    "\n",
    "def dot(u, v):\n",
    "    return sum([coord1 * coord2 for coord1, coord2 in zip(u, v)])"
   ]
  },
  {
   "cell_type": "code",
   "execution_count": 17,
   "metadata": {},
   "outputs": [
    {
     "data": {
      "text/plain": [
       "0"
      ]
     },
     "execution_count": 17,
     "metadata": {},
     "output_type": "execute_result"
    }
   ],
   "source": [
    "dot((1,0), (0,2))"
   ]
  },
  {
   "cell_type": "code",
   "execution_count": 18,
   "metadata": {},
   "outputs": [
    {
     "data": {
      "text/plain": [
       "0"
      ]
     },
     "execution_count": 18,
     "metadata": {},
     "output_type": "execute_result"
    }
   ],
   "source": [
    "dot((0,3,0),(0,0,-5))"
   ]
  },
  {
   "cell_type": "code",
   "execution_count": 16,
   "metadata": {},
   "outputs": [
    {
     "data": {
      "text/plain": [
       "18"
      ]
     },
     "execution_count": 16,
     "metadata": {},
     "output_type": "execute_result"
    }
   ],
   "source": [
    "dot((3,4), (2,3))"
   ]
  },
  {
   "cell_type": "code",
   "execution_count": 29,
   "metadata": {},
   "outputs": [
    {
     "data": {
      "text/plain": [
       "36"
      ]
     },
     "execution_count": 29,
     "metadata": {},
     "output_type": "execute_result"
    }
   ],
   "source": [
    "dot(scale(2,(3,4)),(2,3))"
   ]
  },
  {
   "cell_type": "code",
   "execution_count": 30,
   "metadata": {},
   "outputs": [
    {
     "data": {
      "text/plain": [
       "36"
      ]
     },
     "execution_count": 30,
     "metadata": {},
     "output_type": "execute_result"
    }
   ],
   "source": [
    "dot((3,4),scale(2,(2,3)))"
   ]
  },
  {
   "cell_type": "markdown",
   "metadata": {},
   "source": [
    "<img align=\"center\" src=\"images/3.32.png\"/>"
   ]
  },
  {
   "cell_type": "markdown",
   "metadata": {},
   "source": [
    "## 3.3.4 用向量点积测量夹角\n",
    "\n",
    "已经介绍了向量积因为我们说了这有助于测量向量夹角，我们做的差不多了。我们看到向量点积从 1 到 -1 倍的范围作为向量从 0 到 180° 的夹角。我们已经看到余弦函数来实现：\n",
    "\n",
    "原来向量点积有另一个公式，当 `|u|` 和 `|v|` 表示向量长度，向量点积则为：\n",
    "```\n",
    "u ∙ v = |u| ∙ |v| ∙ cos(θ)\n",
    "```\n",
    "\n",
    "θ 为两个向量的夹角，原则上提供了计算向量点积的新的方式。我们能测量两个向量的长度和夹角来获得结果。假设我们知道两个向量的长度分别为 3 和 2 ，并使用量角器测量得角度相隔 75° 。\n",
    "\n",
    "<img align=\"center\" src=\"images/3.33.png\"/>\n",
    "\n",
    "向量点积为 `3 ∙ 2 ∙ cos(75°)` ，适当的转换为弧度，在 Python 中计算得出大约为 1.55："
   ]
  },
  {
   "cell_type": "code",
   "execution_count": 38,
   "metadata": {},
   "outputs": [
    {
     "data": {
      "text/plain": [
       "1.5529142706151244"
      ]
     },
     "execution_count": 38,
     "metadata": {},
     "output_type": "execute_result"
    }
   ],
   "source": [
    "from math import cos, pi\n",
    "\n",
    "3 * 2 * cos(75 * pi / 180)"
   ]
  },
  {
   "cell_type": "markdown",
   "metadata": {},
   "source": [
    "当通过向量计算，更常见的是通过坐标来计算夹角。当我们结合公式成一个角度：首先我们使用坐标计算向量点积和长度，然后解决角度。\n",
    "\n",
    "让我们尝试找出 (3, 4) 和 (4, 3) 之间的角度，他们的向量点积为 24 ，每一个长度为 5 。我们新的向量点积公式告诉我们：\n",
    "```\n",
    "(3,4) ∙ (4,3) = 24 = 5 ∙ 5 ∙ cos(θ) = 25 ∙ cos(θ)\n",
    "```\n",
    "\n",
    "从 `24 = 25 ∙ cos(θ)` 我们得知 `cos(θ) = 24/25` 。使用 Python 计算得出 `θ` 的值为 0.284 弧度或者 16.3 角度。"
   ]
  },
  {
   "cell_type": "code",
   "execution_count": 40,
   "metadata": {},
   "outputs": [
    {
     "data": {
      "text/plain": [
       "0.283794109208328"
      ]
     },
     "execution_count": 40,
     "metadata": {},
     "output_type": "execute_result"
    }
   ],
   "source": [
    "from math import acos\n",
    "acos(24/25)"
   ]
  },
  {
   "cell_type": "code",
   "execution_count": null,
   "metadata": {},
   "outputs": [],
   "source": []
  }
 ],
 "metadata": {
  "kernelspec": {
   "display_name": "Python 3",
   "language": "python",
   "name": "python3"
  },
  "language_info": {
   "codemirror_mode": {
    "name": "ipython",
    "version": 3
   },
   "file_extension": ".py",
   "mimetype": "text/x-python",
   "name": "python",
   "nbconvert_exporter": "python",
   "pygments_lexer": "ipython3",
   "version": "3.7.3"
  },
  "toc": {
   "base_numbering": 1,
   "nav_menu": {},
   "number_sections": true,
   "sideBar": true,
   "skip_h1_title": false,
   "title_cell": "Table of Contents",
   "title_sidebar": "Contents",
   "toc_cell": false,
   "toc_position": {},
   "toc_section_display": true,
   "toc_window_display": false
  }
 },
 "nbformat": 4,
 "nbformat_minor": 2
}
