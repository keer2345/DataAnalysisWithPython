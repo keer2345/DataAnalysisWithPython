{
 "cells": [
  {
   "cell_type": "markdown",
   "metadata": {},
   "source": [
    "> https://livebook.manning.com/#!/book/math-for-programmers/welcome/v-4/0\n",
    "\n",
    "# 欢迎\n",
    "感谢您阅读 *Math for Programmers* 这本书。作者是个数学狂热份子，并把软件过程当成职业。\n",
    "\n",
    "在本书中，我们将了解向量（_**vectors**_），计算机的2D和3D图像也是基于向量的，将学习如何使用 _**matrix transformations**_ 渲染我们的 3D 动画 。\n",
    "\n",
    "第一部分讲述几何课程如何扩展到线性代数（_**linear algebra**_）的更高维度。\n",
    "\n",
    "第二部分集中在微积分学 （_**calulus**_），这是持续变化的研究。将学会许多物理定义可以表达的称为微分方程（_**differential equatins**_）微积分方程式。我们通过 Python 来求解，可以在物理世界中创建仿真模拟。\n",
    "\n",
    "通过对线性代数和微积分的了解，在第三部分我们将进入机器学习（_**Machine Learning**_）。机器学习算法通常通过矢量数据得出结论，“学习”通常通过操作微积分来完成，称为梯度（_**Gradient**_）。"
   ]
  }
 ],
 "metadata": {
  "kernelspec": {
   "display_name": "Python 3",
   "language": "python",
   "name": "python3"
  },
  "language_info": {
   "codemirror_mode": {
    "name": "ipython",
    "version": 3
   },
   "file_extension": ".py",
   "mimetype": "text/x-python",
   "name": "python",
   "nbconvert_exporter": "python",
   "pygments_lexer": "ipython3",
   "version": "3.7.3"
  }
 },
 "nbformat": 4,
 "nbformat_minor": 2
}
