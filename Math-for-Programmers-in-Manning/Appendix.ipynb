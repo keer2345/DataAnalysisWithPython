{
 "cells": [
  {
   "cell_type": "markdown",
   "metadata": {},
   "source": [
    "# 通过OpenGL、PyGame加载和渲染3D模型\n",
    "到第三章，我们开始编写程序来转换动画图像，开始使用 OpenGL 和 PyGame 替代 Matplotlib。附录概述了如何在 PyGame 中设置游戏循环，以及连续帧渲染3D模型。目标是实现  `draw_model` 函数，以渲染类似第四章中茶壶（teapot）3D 模型的单一图像。\n",
    "\n",
    "`draw_model` 的目标是封装特别的库来工作，我们不需要话很多时间来纠缠 OpenGL 。但是，如果您想了解这个函数是如何工作的，可以参看附录（appendix）并自己研究代码。现在，我们x先来看看第三章的八面体（octahedron）并通过 PyOpenGL 和 PyGame 来重建。\n",
    "\n",
    "# A.1   Recreating the octahedron from Chapter 3\n",
    "\n",
    "首先，安装库：\n",
    "```\n",
    "> pip install PyGame\n",
    "> pip install PyOpenGL\n",
    "> pip install vectors\n",
    "```\n",
    "使用这些库来重建和渲染简单的 3D 对象。"
   ]
  },
  {
   "cell_type": "code",
   "execution_count": 2,
   "metadata": {},
   "outputs": [],
   "source": [
    "import pygame\n",
    "from pygame.locals import *\n",
    "from OpenGL.GL import *\n",
    "from OpenGL.GLU import *\n",
    "import matplotlib.cm\n",
    "from vectors import *\n",
    "from math import *"
   ]
  },
  {
   "cell_type": "markdown",
   "metadata": {},
   "source": [
    "虽然 OpenGL 确实有自动遮阳的机制，我们将在最后一张持续使用阴影原理。我们使用 Matplotlib 中的蓝色来计算八面体的阴影。"
   ]
  },
  {
   "cell_type": "code",
   "execution_count": 3,
   "metadata": {},
   "outputs": [],
   "source": [
    "def normal(face):\n",
    "    return cross(subtract(face[1], face[0], subtract(face[2], face[0])))\n",
    "\n",
    "\n",
    "blues = matplotlib.cm.get_cmap('Blues')\n",
    "\n",
    "\n",
    "def shade(face, color_map=blues, light=(1, 2, 3)):\n",
    "    return color_map(1 - dot(unit(normal(face)), unit(light)))"
   ]
  },
  {
   "cell_type": "markdown",
   "metadata": {},
   "source": [
    "接下来，我们必须指定八面体的几何形状和光源。这与第三章的相同。"
   ]
  },
  {
   "cell_type": "code",
   "execution_count": 4,
   "metadata": {},
   "outputs": [],
   "source": [
    "light = (1, 2, 3)\n",
    "faces = [\n",
    "    [(1, 0, 0), (0, 1, 0), (0, 0, 1)],\n",
    "    [(1, 0, 0), (0, 0, -1), (0, 1, 0)],\n",
    "    [(1, 0, 0), (0, 0, 1), (0, -1, 0)],\n",
    "    [(1, 0, 0), (0, -1, 0), (0, 0, -1)],\n",
    "    [(-1, 0, 0), (0, 0, 1), (0, 1, 0)],\n",
    "    [(-1, 0, 0), (0, 1, 0), (0, 0, -1)],\n",
    "    [(-1, 0, 0), (0, -1, 0), (0, 0, 1)],\n",
    "    [(-1, 0, 0), (0, 0, -1), (0, -1, 0)],\n",
    "]"
   ]
  },
  {
   "cell_type": "code",
   "execution_count": null,
   "metadata": {},
   "outputs": [],
   "source": []
  }
 ],
 "metadata": {
  "kernelspec": {
   "display_name": "Python 3",
   "language": "python",
   "name": "python3"
  },
  "language_info": {
   "codemirror_mode": {
    "name": "ipython",
    "version": 3
   },
   "file_extension": ".py",
   "mimetype": "text/x-python",
   "name": "python",
   "nbconvert_exporter": "python",
   "pygments_lexer": "ipython3",
   "version": "3.7.3"
  }
 },
 "nbformat": 4,
 "nbformat_minor": 2
}
