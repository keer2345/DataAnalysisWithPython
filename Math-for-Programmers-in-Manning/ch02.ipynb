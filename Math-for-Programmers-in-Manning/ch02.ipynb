{
 "cells": [
  {
   "cell_type": "markdown",
   "metadata": {},
   "source": [
    "**Chapter 02 Drawing with 2D Vectors**\n",
    "\n",
    "> jjohnny001【】yandex.com / 123456\n",
    "\n",
    "本章讲述：\n",
    "- 以向量集合创建和操作 2D 图形\n",
    "- 思考  2D 向量的箭头、位置和坐标\n",
    "- 在平面是行使用向量算法转换形状\n",
    "-  使用三角学在平面测量距离（distances）和角度（angles）\n",
    "\n",
    "你已经对二维和三维有一些了解，二维（2D）对象是 平面，类似电脑屏幕或者纸张上的图片，它只有高度和宽度两种维度。而三维（3D）还拥有深度。\n",
    "\n",
    "2D 和 3D 在编程中是很重要的模型，手机、平板和电脑上都是 2D 对象，任何模拟、游戏或者动画数据都表示真实世界中的 3D 数据，并最终在屏幕上用 2D 来体现。在虚拟和增强的实际应用中，3D 数据模型必须真是，取决于用户的位置和视角来测量 3D 数据。\n",
    "\n",
    "甚至我们每天都深处三维的体验当中，对于思考高维度是有帮助的。在物理上普遍认为时间是第四维度，一个事件是三维的特殊时刻。在数据科学上，设置多维度是很常见的。用户在网站上跟踪可能数以百计的可测量的属性,可以用来预测他们的使用模式。解决这些问题在图形、物理和数据分析需要一个框架来处理高维数据，这个框架是数学向量。\n",
    "\n",
    "向量是多为空间中的对象，它有自己的算法（比如加法、乘法等），它的数学分之称为线性代数。我们从二维向量开始学习，易于可视化和计算。在本书中我们将大量使用二维向量，并用它们作为推理更高维度问题的神经模型。\n",
    "\n",
    "# 2.1 绘制2D向量\n",
    "二维世界是平面的，在数学中平面空间称为 _**planes**_ 。二维平面对象有高度和宽度，而没有三维中的深度。同样的，二维位置可以通过两个信息来描述：他们的垂直和水平位置。为了描述平面中的位置，我们指定原点（_origin_）。\n",
    "\n",
    "<img align=\"center\" src=\"images/2.1.png\"/>\n",
    "\n",
    "这里有很多个点，但是只有一个原点。为了区分它，我们标记 x 来作为这个点，从原点起，我们绘制一个箭头（像上图那样）来展示一个点到另一个点的关系。\n",
    "\n",
    "二维向量是平面中相对与原点的一个点。同样的你能想到向量作为平面上的箭头：任何箭头能起始于原点，并表明特定的位置。\n",
    "\n",
    "<img align=\"center\" src=\"images/2.2.png\"/>\n",
    "\n",
    "我们使用箭头和点来表示向量，我们构建图形时点是非常有用的，如果将点连接起来，将得到一只恐龙：\n",
    "\n",
    "<img align=\"center\" src=\"images/2.3.png\"/>\n",
    "\n",
    "从我的恐龙到皮尔斯电影，任何二维或者三维都是通过计算来展示的。\n",
    "\n",
    "## 2.1.1 表示二维向量\n",
    "为了测量二维数据，我们需要两个标尺。\n",
    "- x-axis\n",
    "- y-axis\n",
    "\n",
    "<img align=\"center\" src=\"images/2.4.png\"/>\n",
    "\n",
    "为了方便，我们将原点置为“0”：\n",
    "\n",
    "<img align=\"center\" src=\"images/2.5.png\"/>\n",
    "\n",
    "现在，我们可以用三种方式描述向量：\n",
    "\n",
    "<img align=\"center\" src=\"images/2.6.png\"/>\n",
    "\n",
    "## 2.1.2 在Python中绘制2D\n",
    "我们有大量的语言和库来选择：OpenGL, CSS, SVG 等等。Python 拥有 Pillow 和 Turtle 库来绘制向量数据。在本章中，我使用少量的定值函数来绘制，以 Matplotlib 库作基础。这能让我们集中精力使用 Python 来绘制向量图像——一旦你理解了这一过程，将很容易掌握其他库。\n",
    "\n",
    "我构建了 `draw` 函数来表示输入集合对象，也有关键字指定想要的外观。各种对象由下面的类列出：\n",
    "\n",
    "\n",
    "Class|Constructor example|Description\n",
    ":----|:-----|:---\n",
    "Polygon|`Polygon(*vectors)`|A polygon whose vertices (corners) are represented by a list of `vectors`.\n",
    "Points|`Points(*vectors)`|Represents a list of points (dots) to draw, one at each of the input `vectors`.\n",
    "Arrow|Arrow(tip) , Arrow(tip, tail)|Draws an arrow from the origin to the `tip` vector, or from the `tail` vector to the `head` vector if a tail is specified.\n",
    "Segment|Segment(start,end)|Draws a line segment from the `start` to the vector `end`.\n",
    "\n",
    "通过上面的函数，我们能绘制恐龙了：\n",
    "\n",
    "```python\n",
    "from vector_drawing import *\n",
    " dino_vectors = [(6,4), (3,1), (1,2), (-1,5), (-2,5), (-3,4), (-4,4),\n",
    "     # insert 16 remaining vectors here\n",
    " ]\n",
    "  \n",
    " draw(\n",
    "     Points(*dino_vectors)\n",
    " )\n",
    "```\n",
    "\n",
    "我还没有写出完整的 `dino_vectors`，但下图列出了所有向量集合的点：\n",
    "\n",
    "<img align=\"center\" src=\"images/2.7.png\"/>\n",
    "\n",
    "接下来我们将这些点连接起来，第一段可能从 (6, 4) 连接到 (3, 1) 。我们可以这样绘制：\n",
    "\n",
    "```python\n",
    "draw_segment(place, (6,4), (3,1), color='blue')\n",
    "```\n",
    "\n",
    "结果是这样：\n",
    "\n",
    "<img align=\"center\" src=\"images/2.8.png\"/>\n",
    "\n",
    "最终结果是这样：\n",
    "\n",
    "<img align=\"center\" src=\"images/2.9.png\"/>\n",
    "\n",
    "## 2.1.3 练习\n",
    "### 练习1\n",
    "恐龙的脚趾头是哪个点？\n",
    "\n",
    "(-1, -4)\n",
    "\n",
    "### 练习2\n",
    "绘制点和箭头对应的 (2, -2)\n",
    "\n",
    "<img align=\"center\" src=\"images/2.10.png\"/>\n",
    "\n",
    "### 练习3\n",
    "补全恐龙的向量集合：\n",
    "```python\n",
    "dino_vectors = [(6,4), (3,1), (1,2), (-1,5), (-2,5), (-3,4), (-4,4),\n",
    "     (-5,3), (-5,2), (-2,2), (-5,1), (-4,0), (-2,1), (-1,0), (0,-3),\n",
    "     (-1,-4), (1,-4), (2,-3), (1,-2), (3,-1), (5,1)\n",
    " ]\n",
    "```\n",
    "\n",
    "### 练习4\n",
    "通过 `Polygon` 绘制：\n",
    "```python\n",
    "draw(\n",
    "     Points(*dino_vectors),\n",
    "     Polygon(*dino_vectors)\n",
    " )\n",
    "```\n",
    "\n",
    "\n",
    "<img align=\"center\" src=\"images/2.11.png\"/>\n",
    "\n",
    "## 练习5\n",
    "$y = x^2$\n",
    "\n",
    "<img align=\"center\" src=\"images/2.12.png\"/>\n",
    "\n",
    "```py\n",
    "draw(\n",
    "     Points(*[(x,x**2) for x in range(-10,11)]),\n",
    "     grid=(1,10),\n",
    "     nice_aspect_ratio=False # don't require x scale to match y scale\n",
    " )\n",
    " ```"
   ]
  },
  {
   "cell_type": "markdown",
   "metadata": {},
   "source": [
    "# 2.2 平面向量算法\n",
    "向量加法：\n",
    "```py\n",
    "def add(v1,v2):\n",
    "     return (v1[0] + v2[0], v1[1] + v2[1])\n",
    "```\n",
    "\n",
    "<img align=\"center\" src=\"images/2.13.png\"/>\n",
    "\n",
    "<img align=\"center\" src=\"images/2.14.png\"/>\n",
    "\n",
    "<img align=\"center\" src=\"images/2.15.png\"/>\n",
    "\n",
    "```py\n",
    "dino_vectors2 = [add((-1.5,-2.5), v) for v in dino_vectors]\n",
    "```\n",
    "\n",
    "```\n",
    "draw_vectors(plane, dino_vectors, color='blue')\n",
    " draw_vectors(plane, dino_vectors2, color='red')\n",
    " connect_the_dots(plane, dino_vectors, color='blue')\n",
    " connect_the_dots(plane, dino_vectors2, color='red')\n",
    " ```\n",
    " \n",
    "<img align=\"center\" src=\"images/2.16.png\"/>\n",
    "\n",
    "## 2.2.1 向量组件和长度\n",
    "(4, 3) 可以理解为 (4, 0) + (0, 3)\n",
    "\n",
    "<img align=\"center\" src=\"images/2.17.png\"/>\n",
    "\n",
    "勾股定理计算向量的长度：\n",
    "\n",
    "<img align=\"center\" src=\"images/2.18.png\"/>\n",
    "\n",
    "<img align=\"center\" src=\"images/2.19.png\"/>"
   ]
  },
  {
   "cell_type": "code",
   "execution_count": 2,
   "metadata": {},
   "outputs": [],
   "source": [
    "from math import sqrt\n",
    "\n",
    "\n",
    "def length(v):\n",
    "    return sqrt(v[0]**2 + v[1]**2)"
   ]
  },
  {
   "cell_type": "markdown",
   "metadata": {},
   "source": [
    "## 2.2.2 数字向量的乘法\n",
    "重复添加向量 (2, 1)：\n",
    "\n",
    "<img align=\"center\" src=\"images/2.20.png\"/>\n",
    "\n",
    "v + v + v + v + v = 5v 。\n",
    " \n",
    "\n",
    "<img align=\"center\" src=\"images/2.21.png\"/>\n",
    "\n",
    "<img align=\"center\" src=\"images/2.22.png\"/>\n",
    "\n",
    "> 6.5 ∙ w = 6.5 ∙ (1.2, -3.1) = (6.5 ∙ 1.2, 6.5 ∙ -3.1) = (7.8, -20.15).\n",
    "\n",
    "向量向反方向伸缩  `-1/2`：\n",
    "\n",
    "<img align=\"center\" src=\"images/2.23.png\"/>\n",
    "\n",
    "## 2.2.3 减法、位移和距离\n",
    "\n",
    "$v = (-4, 3) ，-v = (4, -3)$\n",
    "\n",
    "<img align=\"center\" src=\"images/2.24.png\"/>\n",
    "\n",
    "$v - w$\n",
    "\n",
    "<img align=\"center\" src=\"images/2.25.png\"/>\n",
    "<img align=\"center\" src=\"images/2.26.png\"/>\n",
    "<img align=\"center\" src=\"images/2.27.png\"/>\n",
    "<img align=\"center\" src=\"images/2.28.png\"/>"
   ]
  },
  {
   "cell_type": "markdown",
   "metadata": {},
   "source": [
    "# 2.3 平面上的角度和三角学\n",
    "\n",
    "<img align=\"center\" src=\"images/2.40.png\"/>\n",
    "\n",
    "位置：(5, 37°) ，称为极坐标（_polar coordinates_ ），之前说的称为笛卡尔坐标（_cartesian coordinates_）。\n",
    "\n",
    "有时候，我们增加向量时，需要考虑笛卡尔坐标。其他时候，极坐标更有用，比如当我们想看看向量旋转一个角度时。在代码中，我们没有文字规则或者量角器，所以我们使用三角函数来转换。\n",
    "\n",
    "## 2.3.1 从角度到组件\n",
    "\n",
    "<img align=\"center\" src=\"images/2.41.png\"/>\n",
    "<img align=\"center\" src=\"images/2.42.png\"/>\n",
    "<img align=\"center\" src=\"images/2.43.png\"/>\n",
    "<img align=\"center\" src=\"images/2.44.png\"/>\n",
    "<img align=\"center\" src=\"images/2.45.png\"/>\n",
    "<img align=\"center\" src=\"images/2.46.png\"/>\n",
    "<img align=\"center\" src=\"images/2.47.png\"/>\n",
    "<img align=\"center\" src=\"images/2.48.png\"/>\n",
    "\n",
    "\n",
    "## 2.3.2 Python中的弧度和三角"
   ]
  },
  {
   "cell_type": "code",
   "execution_count": 4,
   "metadata": {},
   "outputs": [
    {
     "data": {
      "text/plain": [
       "1.6197751905438615"
      ]
     },
     "execution_count": 4,
     "metadata": {},
     "output_type": "execute_result"
    }
   ],
   "source": [
    "from math import tan\n",
    "tan(45)"
   ]
  },
  {
   "cell_type": "code",
   "execution_count": 7,
   "metadata": {},
   "outputs": [
    {
     "data": {
      "text/plain": [
       "0.9999999999999999"
      ]
     },
     "execution_count": 7,
     "metadata": {},
     "output_type": "execute_result"
    }
   ],
   "source": [
    "from math import pi\n",
    "tan(pi / 4)"
   ]
  },
  {
   "cell_type": "code",
   "execution_count": 10,
   "metadata": {},
   "outputs": [
    {
     "data": {
      "text/plain": [
       "(3.993177550236464, 3.0090751157602416)"
      ]
     },
     "execution_count": 10,
     "metadata": {},
     "output_type": "execute_result"
    }
   ],
   "source": [
    "from math import sin, cos\n",
    "\n",
    "\n",
    "def to_cartesian(poler_vector):\n",
    "    length, angle = poler_vector[0], poler_vector[1]\n",
    "    return (length * cos(angle), length * sin(angle))\n",
    "\n",
    "\n",
    "angle = 37 * pi / 180\n",
    "to_cartesian((5, angle))"
   ]
  },
  {
   "cell_type": "code",
   "execution_count": 21,
   "metadata": {},
   "outputs": [
    {
     "data": {
      "text/plain": [
       "0.7071067811865475"
      ]
     },
     "execution_count": 21,
     "metadata": {},
     "output_type": "execute_result"
    }
   ],
   "source": [
    "sin(pi / 180)\n",
    "sin(45 * pi / 180)"
   ]
  },
  {
   "cell_type": "markdown",
   "metadata": {},
   "source": [
    "## 2.3.3 从组件到角度\n",
    "\n",
    "<img align=\"center\" src=\"images/2.49.png\"/>"
   ]
  },
  {
   "cell_type": "code",
   "execution_count": 34,
   "metadata": {},
   "outputs": [
    {
     "data": {
      "text/plain": [
       "0.8414709848078965"
      ]
     },
     "execution_count": 34,
     "metadata": {},
     "output_type": "execute_result"
    }
   ],
   "source": [
    "from math import asin, acos\n",
    "sin(1)"
   ]
  },
  {
   "cell_type": "code",
   "execution_count": 26,
   "metadata": {},
   "outputs": [
    {
     "data": {
      "text/plain": [
       "1.0"
      ]
     },
     "execution_count": 26,
     "metadata": {},
     "output_type": "execute_result"
    }
   ],
   "source": [
    "asin(0.8414709848078965)"
   ]
  },
  {
   "cell_type": "code",
   "execution_count": 44,
   "metadata": {
    "scrolled": true
   },
   "outputs": [
    {
     "data": {
      "text/plain": [
       "0.9827937232473292"
      ]
     },
     "execution_count": 44,
     "metadata": {},
     "output_type": "execute_result"
    }
   ],
   "source": [
    "asin(3/sqrt(13))"
   ]
  },
  {
   "cell_type": "markdown",
   "metadata": {},
   "source": [
    "但是可能是一个错误的方向：\n",
    "\n",
    "<img align=\"center\" src=\"images/2.50.png\"/>\n",
    "\n",
    "我们还需要余弦函数："
   ]
  },
  {
   "cell_type": "code",
   "execution_count": 36,
   "metadata": {},
   "outputs": [
    {
     "data": {
      "text/plain": [
       "2.1587989303424644"
      ]
     },
     "execution_count": 36,
     "metadata": {},
     "output_type": "execute_result"
    }
   ],
   "source": [
    "acos(-2/sqrt(13))"
   ]
  },
  {
   "cell_type": "code",
   "execution_count": 38,
   "metadata": {},
   "outputs": [
    {
     "data": {
      "text/plain": [
       "3.1415926535897936"
      ]
     },
     "execution_count": 38,
     "metadata": {},
     "output_type": "execute_result"
    }
   ],
   "source": [
    "acos(-2/sqrt(13)) + asin(3/sqrt(13))"
   ]
  },
  {
   "cell_type": "code",
   "execution_count": 45,
   "metadata": {},
   "outputs": [
    {
     "data": {
      "text/plain": [
       "-0.5547001962252293"
      ]
     },
     "execution_count": 45,
     "metadata": {},
     "output_type": "execute_result"
    }
   ],
   "source": [
    "cos(2.1587989303424644)"
   ]
  },
  {
   "cell_type": "code",
   "execution_count": 47,
   "metadata": {},
   "outputs": [
    {
     "data": {
      "text/plain": [
       "-0.5547001962252291"
      ]
     },
     "execution_count": 47,
     "metadata": {},
     "output_type": "execute_result"
    }
   ],
   "source": [
    "-2 / sqrt(13)"
   ]
  },
  {
   "cell_type": "code",
   "execution_count": 49,
   "metadata": {},
   "outputs": [
    {
     "data": {
      "text/plain": [
       "0.8320502943378436"
      ]
     },
     "execution_count": 49,
     "metadata": {},
     "output_type": "execute_result"
    }
   ],
   "source": [
    "sin(2.1587989303424644)"
   ]
  },
  {
   "cell_type": "code",
   "execution_count": 50,
   "metadata": {},
   "outputs": [
    {
     "data": {
      "text/plain": [
       "0.8320502943378437"
      ]
     },
     "execution_count": 50,
     "metadata": {},
     "output_type": "execute_result"
    }
   ],
   "source": [
    "3/sqrt(13)"
   ]
  },
  {
   "cell_type": "code",
   "execution_count": 51,
   "metadata": {},
   "outputs": [
    {
     "data": {
      "text/plain": [
       "2.158798930342464"
      ]
     },
     "execution_count": 51,
     "metadata": {},
     "output_type": "execute_result"
    }
   ],
   "source": [
    "from math import atan2\n",
    "atan2(3, -2)"
   ]
  },
  {
   "cell_type": "code",
   "execution_count": 53,
   "metadata": {},
   "outputs": [
    {
     "data": {
      "text/plain": [
       "(1.0, 0.0)"
      ]
     },
     "execution_count": 53,
     "metadata": {},
     "output_type": "execute_result"
    }
   ],
   "source": [
    "def to_polar(vector):\n",
    "    x, y = vector[0], vector[1]\n",
    "    angle = atan2(y, x)\n",
    "    return (length(vector), angle)\n",
    "\n",
    "\n",
    "to_polar((1, 0))"
   ]
  },
  {
   "cell_type": "markdown",
   "metadata": {},
   "source": [
    "# 2.4 改变向量集合\n"
   ]
  },
  {
   "cell_type": "markdown",
   "metadata": {},
   "source": [
    "# 2.5 用Matplotlib绘制"
   ]
  },
  {
   "cell_type": "code",
   "execution_count": 57,
   "metadata": {},
   "outputs": [],
   "source": [
    "import matplotlib\n",
    "from matplotlib.patches import Polygon\n",
    "from matplotlib.collections import PatchCollection"
   ]
  }
 ],
 "metadata": {
  "kernelspec": {
   "display_name": "Python 3",
   "language": "python",
   "name": "python3"
  },
  "language_info": {
   "codemirror_mode": {
    "name": "ipython",
    "version": 3
   },
   "file_extension": ".py",
   "mimetype": "text/x-python",
   "name": "python",
   "nbconvert_exporter": "python",
   "pygments_lexer": "ipython3",
   "version": "3.7.3"
  },
  "toc": {
   "base_numbering": 1,
   "nav_menu": {},
   "number_sections": true,
   "sideBar": true,
   "skip_h1_title": false,
   "title_cell": "Table of Contents",
   "title_sidebar": "Contents",
   "toc_cell": false,
   "toc_position": {},
   "toc_section_display": true,
   "toc_window_display": false
  }
 },
 "nbformat": 4,
 "nbformat_minor": 2
}
