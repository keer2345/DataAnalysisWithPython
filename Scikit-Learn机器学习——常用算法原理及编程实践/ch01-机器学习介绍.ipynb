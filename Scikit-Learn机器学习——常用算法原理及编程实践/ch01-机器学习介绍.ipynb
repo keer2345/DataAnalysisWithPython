{
 "cells": [
  {
   "cell_type": "markdown",
   "metadata": {},
   "source": [
    "**第1章  机器学习介绍**\n",
    "\n",
    "# 什么是机器学习\n",
    "- 数据\n",
    "- 模型\n",
    "\n",
    "# 机器学习有什么用\n",
    "# 机器学习的分类\n",
    "- 有监督学习（Supervised learning）\n",
    "    - 回归学习（Regression learning）\n",
    "    - 分类学习（Classfication learning）\n",
    "- 无监督学习（Unsupervised learning）\n",
    "    - 聚类（Clustering）\n",
    "\n",
    "# 机器学习应用开发的典型步骤\n",
    "1. 数据采集和标记 —— 训练样本、数据标记\n",
    "1. 数据清洗\n",
    "1. 特征选择\n",
    "1. 模型选择\n",
    "1. 模型训练和测试 —— 训练数据集、测试数据集、交叉验证\n",
    "1. 模型性能评估和优化 —— 训练时长\n",
    "1. 模型使用"
   ]
  }
 ],
 "metadata": {
  "kernelspec": {
   "display_name": "Python 3",
   "language": "python",
   "name": "python3"
  },
  "language_info": {
   "codemirror_mode": {
    "name": "ipython",
    "version": 3
   },
   "file_extension": ".py",
   "mimetype": "text/x-python",
   "name": "python",
   "nbconvert_exporter": "python",
   "pygments_lexer": "ipython3",
   "version": "3.7.4"
  },
  "toc": {
   "base_numbering": 1,
   "nav_menu": {},
   "number_sections": true,
   "sideBar": true,
   "skip_h1_title": false,
   "title_cell": "Table of Contents",
   "title_sidebar": "Contents",
   "toc_cell": false,
   "toc_position": {},
   "toc_section_display": true,
   "toc_window_display": false
  }
 },
 "nbformat": 4,
 "nbformat_minor": 2
}
