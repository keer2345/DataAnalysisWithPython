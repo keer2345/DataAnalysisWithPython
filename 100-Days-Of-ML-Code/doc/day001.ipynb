{
 "cells": [
  {
   "cell_type": "markdown",
   "metadata": {
    "ein.tags": "worksheet-0",
    "slideshow": {
     "slide_type": "-"
    }
   },
   "source": [
    "# Day 001 数据预处理\n",
    "## 1. 导入库"
   ]
  },
  {
   "cell_type": "code",
   "execution_count": 3,
   "metadata": {
    "autoscroll": false,
    "ein.hycell": false,
    "ein.tags": "worksheet-0",
    "slideshow": {
     "slide_type": "-"
    }
   },
   "outputs": [],
   "source": [
    "import numpy as np\n",
    "import pandas as pd\n"
   ]
  },
  {
   "cell_type": "markdown",
   "metadata": {
    "ein.tags": "worksheet-0",
    "slideshow": {
     "slide_type": "-"
    }
   },
   "source": [
    "## 2. 导入数据集\n",
    "通常为 `.csv` 格式，每行为一条数据，使用 Pandas 的 `read_csv` 方法读取本地的 csv 文件。\n"
   ]
  },
  {
   "cell_type": "markdown",
   "metadata": {
    "ein.tags": "worksheet-0",
    "slideshow": {
     "slide_type": "-"
    }
   },
   "source": [
    "## 3. 处理丢失数据\n",
    "我们可以使用整列的平均值或中间值替换丢失数据，通常用 `sklearn.preprocessing` 库中的 `Imputer` 类来完成这项任务。\n"
   ]
  },
  {
   "cell_type": "markdown",
   "metadata": {
    "ein.tags": "worksheet-0",
    "slideshow": {
     "slide_type": "-"
    }
   },
   "source": [
    "## 4. 解析分类数据\n",
    "需要将非数值解析成数字，使用 `sklearn.preprocessing` 库导入 `LabelEncoder` 类。\n"
   ]
  },
  {
   "cell_type": "markdown",
   "metadata": {
    "ein.tags": "worksheet-0",
    "slideshow": {
     "slide_type": "-"
    }
   },
   "source": [
    "## 5. 拆分数据集为测试集合和训练集合\n",
    "把数据集拆分成两个：\n",
    "1. 用来训练模型的训练集合\n",
    "1. 用来验证模型的测试集合\n",
    "\n",
    "两者比例一般为 80:20，我们导入 `sklearn.crossvalidation` 库中的 `train_test_split()` 方法。\n"
   ]
  },
  {
   "cell_type": "markdown",
   "metadata": {
    "ein.tags": "worksheet-0",
    "slideshow": {
     "slide_type": "-"
    }
   },
   "source": [
    "## 6. 特征缩放\n",
    "大部分模型算法使用两点间的欧拉距离表示，但此特征在幅度、单位和范围姿态问题上变化很大。在距离计算中，高幅度的特征比低幅度特征权重更大。可用特征标准化或 Z 值归一化解决。导入 `sklearn.preprocessing` 库中的 `StandardScalar` 类。\n"
   ]
  }
 ],
 "metadata": {
  "kernelspec": {
   "display_name": "Python 3",
   "language": "python",
   "name": "python3"
  },
  "language_info": {
   "codemirror_mode": {
    "name": "ipython",
    "version": 3
   },
   "file_extension": ".py",
   "mimetype": "text/x-python",
   "name": "python",
   "nbconvert_exporter": "python",
   "pygments_lexer": "ipython3",
   "version": "3.7.2"
  },
  "name": "day001.ipynb"
 },
 "nbformat": 4,
 "nbformat_minor": 2
}
