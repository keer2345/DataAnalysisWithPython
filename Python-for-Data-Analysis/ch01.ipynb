{
 "cells": [
  {
   "cell_type": "markdown",
   "metadata": {},
   "source": [
    "**Chapter 1 准备工作**\n",
    "\n",
    "#  1.1 本书内容\n",
    "\n",
    "本书讲的是利用Python进行数据控制、处理、整理、分析等方面的具体细节和基本要点。\n",
    "我的目标是介绍Python编程和用于数据处理的库和工具环境,掌握这些,可以让你成为一个数据分析专家。\n",
    "虽然本书的标题是“数据分析”,重点确实Python编程、库,以及用于数据分析的工具。这就是数据分析要用到的Python编程。\n",
    "\n",
    "#  1.2 为什么要使用Python进行数据分析\n",
    "\n",
    "# 1.3 重要的Python库\n",
    "\n",
    "- numpy\n",
    "- pandas\n",
    "- matplotlib\n",
    "- scipy\n",
    "- scikit-learn\n",
    "- statsmodels\n",
    "\n",
    "# 1.4 安装和设置\n",
    "\n",
    "# 1.5 社区和会议\n",
    "\n",
    "# 1.6 本书导航\n",
    "\n",
    "- 各章的示例数据: http://github.com/pydata/pydata-book\n",
    "- 作者的个人主页: 个人主页: http://wesmckinney.com/"
   ]
  }
 ],
 "metadata": {
  "kernelspec": {
   "display_name": "Python 3",
   "language": "python",
   "name": "python3"
  },
  "language_info": {
   "codemirror_mode": {
    "name": "ipython",
    "version": 3
   },
   "file_extension": ".py",
   "mimetype": "text/x-python",
   "name": "python",
   "nbconvert_exporter": "python",
   "pygments_lexer": "ipython3",
   "version": "3.7.4"
  }
 },
 "nbformat": 4,
 "nbformat_minor": 2
}
