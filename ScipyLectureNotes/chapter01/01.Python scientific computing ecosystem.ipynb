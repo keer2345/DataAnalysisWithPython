{
 "cells": [
  {
   "cell_type": "markdown",
   "metadata": {
    "ein.tags": "worksheet-0",
    "slideshow": {
     "slide_type": "-"
    }
   },
   "source": [
    "# 1.1 [Python scientific computing ecosystem](https://www.scipy-lectures.org/intro/intro.html)\n",
    "\n",
    "## 1.1.1 为什么用Python?\n",
    "\n",
    "1. 包含了很多工具包\n",
    "1. 易于学习\n",
    "1. 易于交流\n",
    "1. 代码高效\n",
    "1. 通用性\n",
    "\n",
    "\n",
    "## 1.1.2 Python科学生态系统\n",
    "\n",
    "### 核心库\n",
    "\n",
    "1. [Numpy](http://www.numpy.org/) 强大的数值数值计算，已经数组的一些常规操作\n",
    "1. [Scipy](https://www.scipy.org/ \"Scipy\")\n",
    "1. [Matplotlib](http://matplotlib.org/ \"Matplotlib\") 2-D 可视化。\n",
    "\n",
    "### 交互环境\n",
    "1. **ipython**\n",
    "1. **jupyter**\n",
    "\n",
    "### 特殊领域库\n",
    "1. **Mayavi** 3-D 可视化。\n",
    "1. **pandas, statsmodels, seaborn** 用于统计\n",
    "1. **sympy** 符号计算\n",
    "1. **scikit-image** 图像处理\n",
    "1. **scikit-learn** machine learning机器学习\n",
    "\n",
    "## 1.1.3 工作环境\n",
    "\n",
    "### 工具\n",
    "1. Python + ipython + virtualenv + pip + jupyter\n",
    "1. Emacs + elpy + ein\n",
    "\n",
    "### 具体使用\n",
    "1. Emacs打开当前的工作目录，运行`M-x ein:jupyter-server-start`，开启`jupyter notebook`服务\n",
    "1. 创建`*.ipynb`文件，可以用`C-c C-t`切换*cell*类型，比如*ipyhton*,*markdown*\n",
    "1. `C-c C-c`执行。\n",
    "\n",
    "## 1.1.4 工作流：交互式环境以及文本编辑\n",
    "### 交互式工作\n",
    "\n",
    "IPython + Jupyter Notebook\n"
   ]
  },
  {
   "cell_type": "code",
   "execution_count": 1,
   "metadata": {
    "autoscroll": false,
    "collapsed": false,
    "ein.tags": "worksheet-0",
    "slideshow": {
     "slide_type": "-"
    }
   },
   "outputs": [
    {
     "name": "stdout",
     "output_type": "stream",
     "text": [
      "Hello Jupyter Notebook!\n"
     ]
    }
   ],
   "source": [
    "print(\"Hello Jupyter Notebook!\")"
   ]
  },
  {
   "cell_type": "code",
   "execution_count": 3,
   "metadata": {
    "autoscroll": false,
    "collapsed": false,
    "ein.tags": "worksheet-0",
    "slideshow": {
     "slide_type": "-"
    }
   },
   "outputs": [],
   "source": [
    "print?"
   ]
  },
  {
   "cell_type": "code",
   "execution_count": 4,
   "metadata": {
    "autoscroll": false,
    "collapsed": false,
    "ein.tags": "worksheet-0",
    "slideshow": {
     "slide_type": "-"
    }
   },
   "outputs": [
    {
     "name": "stdout",
     "output_type": "stream",
     "text": [
      "hello world\n"
     ]
    }
   ],
   "source": [
    "s = \"hello world\"\n",
    "print(s)"
   ]
  },
  {
   "cell_type": "markdown",
   "metadata": {
    "ein.tags": "worksheet-0",
    "slideshow": {
     "slide_type": "-"
    }
   },
   "source": [
    "运行一个已存在的文件："
   ]
  },
  {
   "cell_type": "code",
   "execution_count": 5,
   "metadata": {
    "autoscroll": false,
    "collapsed": false,
    "ein.tags": "worksheet-0",
    "slideshow": {
     "slide_type": "-"
    }
   },
   "outputs": [
    {
     "name": "stderr",
     "output_type": "stream",
     "text": [
      "ERROR:root:File `'my_file.py'` not found.\n"
     ]
    }
   ],
   "source": [
    "run  my_file.py"
   ]
  },
  {
   "cell_type": "markdown",
   "metadata": {
    "ein.tags": "worksheet-0",
    "slideshow": {
     "slide_type": "-"
    }
   },
   "source": [
    "IPython 和 Jupyter的小技巧：\n",
    "- *Tab* 可以补全\n",
    "- *Up* 查找历史命令"
   ]
  }
 ],
 "metadata": {
  "kernelspec": {
   "display_name": "Python 3",
   "name": "python3"
  },
  "language_info": {
   "codemirror_mode": {
    "name": "ipython",
    "version": 3
   },
   "file_extension": ".py",
   "mimetype": "text/x-python",
   "name": "python",
   "nbconvert_exporter": "python",
   "pygments_lexer": "ipython3",
   "version": "3.6.4"
  },
  "name": "01.Python scientific computing ecosystem.ipynb"
 },
 "nbformat": 4,
 "nbformat_minor": 2
}
