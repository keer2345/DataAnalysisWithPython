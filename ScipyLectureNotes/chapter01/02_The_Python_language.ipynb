{
 "cells": [
  {
   "cell_type": "markdown",
   "metadata": {
    "ein.tags": "worksheet-0",
    "slideshow": {
     "slide_type": "-"
    }
   },
   "source": [
    "# The Python language\n",
    "\n",
    "这里简单的介绍Python，以便于学习Numpy、Scipy等。如果想学习更多，可以参考[官方指南](https://docs.python.org/tutorial \"官方指南\")，或者书籍[Dive Into Python](http://www.diveintopython.net/ \"Dive Into Python\")。\n",
    "\n",
    "## 1.2.1 Python的第一步"
   ]
  },
  {
   "cell_type": "code",
   "execution_count": 1,
   "metadata": {
    "autoscroll": false,
    "collapsed": false,
    "ein.tags": "worksheet-0",
    "slideshow": {
     "slide_type": "-"
    }
   },
   "outputs": [
    {
     "name": "stdout",
     "output_type": "stream",
     "text": [
      "hello world\n"
     ]
    }
   ],
   "source": [
    "print(\"hello world\")"
   ]
  },
  {
   "cell_type": "code",
   "execution_count": 3,
   "metadata": {
    "autoscroll": false,
    "collapsed": false,
    "ein.tags": "worksheet-0",
    "slideshow": {
     "slide_type": "-"
    }
   },
   "outputs": [
    {
     "name": "stdout",
     "output_type": "stream",
     "text": [
      "6\n"
     ]
    }
   ],
   "source": [
    "a = 3\n",
    "b = 2 * a\n",
    "type(b)\n",
    "print(b)"
   ]
  },
  {
   "cell_type": "code",
   "execution_count": 4,
   "metadata": {
    "autoscroll": false,
    "collapsed": false,
    "ein.tags": "worksheet-0",
    "slideshow": {
     "slide_type": "-"
    }
   },
   "outputs": [
    {
     "data": {
      "text/plain": [
       "str"
      ]
     },
     "execution_count": 4,
     "metadata": {},
     "output_type": "execute_result"
    }
   ],
   "source": [
    "b = 'hello'\n",
    "type(b)"
   ]
  },
  {
   "cell_type": "markdown",
   "metadata": {
    "ein.tags": "worksheet-0",
    "slideshow": {
     "slide_type": "-"
    }
   },
   "source": [
    "## 1.2.2 Basic Type\n",
    "\n",
    "### 数值数据类型\n",
    "- Integer\n",
    "- Floats\n",
    "- Complex\n",
    "- Boolean\n",
    "\n",
    "### 容器\n",
    "- List\n",
    "- String\n",
    "- Dictionary\n",
    "- Tuple\n",
    "- Set\n",
    "\n",
    "## 1.2.3 控制流\n",
    "\n",
    "### if/elif/else\n",
    "\n",
    "### for/range\n",
    "\n",
    "### while/break/continue\n",
    "\n",
    "### Iteration\n",
    "\n",
    "#### 迭代序列"
   ]
  },
  {
   "cell_type": "code",
   "execution_count": 5,
   "metadata": {
    "autoscroll": false,
    "collapsed": false,
    "ein.tags": "worksheet-0",
    "slideshow": {
     "slide_type": "-"
    }
   },
   "outputs": [
    {
     "name": "stdout",
     "output_type": "stream",
     "text": [
      "o\n",
      "e\n",
      "u\n"
     ]
    }
   ],
   "source": [
    "word = 'aeiou'\n",
    "\n",
    "for i in 'powerful':\n",
    "    if i in word:\n",
    "       print(i)"
   ]
  },
  {
   "cell_type": "code",
   "execution_count": 6,
   "metadata": {
    "autoscroll": false,
    "collapsed": false,
    "ein.tags": "worksheet-0",
    "slideshow": {
     "slide_type": "-"
    }
   },
   "outputs": [
    {
     "data": {
      "text/plain": [
       "['nice', 'to', 'see', 'you']"
      ]
     },
     "execution_count": 6,
     "metadata": {},
     "output_type": "execute_result"
    }
   ],
   "source": [
    "msg = \"nice to see you\"\n",
    "msg.split()"
   ]
  },
  {
   "cell_type": "code",
   "execution_count": 7,
   "metadata": {
    "autoscroll": false,
    "collapsed": false,
    "ein.tags": "worksheet-0",
    "slideshow": {
     "slide_type": "-"
    }
   },
   "outputs": [
    {
     "name": "stdout",
     "output_type": "stream",
     "text": [
      "nice\n",
      "to\n",
      "see\n",
      "you\n"
     ]
    }
   ],
   "source": [
    "for w in msg.split():\n",
    "    print(w)"
   ]
  },
  {
   "cell_type": "markdown",
   "metadata": {
    "ein.tags": "worksheet-0",
    "slideshow": {
     "slide_type": "-"
    }
   },
   "source": [
    "### 列表进阶"
   ]
  },
  {
   "cell_type": "code",
   "execution_count": 8,
   "metadata": {
    "autoscroll": false,
    "collapsed": false,
    "ein.tags": "worksheet-0",
    "slideshow": {
     "slide_type": "-"
    }
   },
   "outputs": [
    {
     "data": {
      "text/plain": [
       "[0, 1, 4, 9, 16]"
      ]
     },
     "execution_count": 8,
     "metadata": {},
     "output_type": "execute_result"
    }
   ],
   "source": [
    "[x ** 2 for x in range(5)]"
   ]
  },
  {
   "cell_type": "markdown",
   "metadata": {
    "ein.tags": "worksheet-0",
    "slideshow": {
     "slide_type": "-"
    }
   },
   "source": [
    "## 1.2.4 函数\n",
    "\n",
    "### 定义函数\n",
    "```python\n",
    "def func_name():\n",
    "    print(\"hello world\")\n",
    "```\n",
    "\n",
    "### 返回值*return*\n",
    "\n",
    "### 参数\n",
    "#### 传递参数\n",
    "#### 全局参数\n",
    "\n",
    "## 1.2.5 代码重用：脚本与模块\n",
    "### 脚本\n",
    "在IPython中，建立一个*test*.py的文件，然后使用`%run test.py`运行。\n",
    "### 模块\n",
    "### Package\n",
    "\n",
    "## 1.2.6 输入与输出\n",
    "### 文件\n",
    "Write to a file\n",
    "```python\n",
    "f = open('filename','w')\n",
    "type(f)\n",
    "f.write('this is a test \\n and another test')\n",
    "f.close()\n",
    "```\n",
    "\n",
    "Read from a file\n",
    "```python\n",
    "f = open('filename','r')\n",
    "s = f.read()\n",
    "print(s)\n",
    "This a test\n",
    "and another test\n",
    "\n",
    "f.close()\n",
    "```\n",
    "\n",
    "### 迭代文件\n",
    "```python\n",
    "f = open('filename','r')\n",
    "for line in f:\n",
    "  print(line)\n",
    "\n",
    "f.close()\n",
    "```\n",
    "\n",
    "### 文件模式\n",
    "- `r` Read only\n",
    "- `w` Write only, Create a new file or overwrite existing file.\n",
    "- `a` Append a file\n",
    "- `r+` Read and Write\n",
    "- `b` Binary mode, Use for binary files, especially on Windows.\n",
    "\n",
    "## 1.2.7 标准库\n",
    "### `os` 模块\n",
    "#### 目录和文件操作\n",
    "```python\n",
    "import os\n",
    "os.getcwd()\n",
    "\n",
    "os.listdir(os.curdir)\n",
    "os.listdir('/home/username')\n",
    "\n",
    "os.mkdir('dirNmae')\n",
    "'dirNmae' in os.listdir()\n",
    "\n",
    "os.rename('name1','name2')\n",
    "\n",
    "os.remove('filename')\n",
    "```\n",
    "\n",
    "#### 路径操作\n",
    "```python\n",
    "fp = open('junk.txt', 'w')\n",
    "\n",
    "fp.close()\n",
    "\n",
    "a = os.path.abspath('junk.txt')\n",
    "\n",
    "os.path.split(a)\n",
    "\n",
    "os.path.dirname(a)\n",
    "\n",
    "os.path.basename(a)\n",
    "\n",
    "os.path.splitext(os.path.basename(a))\n",
    "\n",
    "os.path.exists('junk.txt')\n",
    "\n",
    "os.path.isfile('junk.txt')\n",
    "\n",
    "os.path.isdir('junk.txt')\n",
    "\n",
    "os.path.expanduser('~/local')\n",
    "\n",
    "os.path.join(os.path.expanduser('~'), 'local', 'bin')\n",
    "```\n",
    "\n"
   ]
  },
  {
   "cell_type": "markdown",
   "metadata": {
    "ein.tags": "worksheet-0",
    "slideshow": {
     "slide_type": "-"
    }
   },
   "source": [
    "## 1.2.8 异常处理\n",
    "\n",
    "### try/except"
   ]
  },
  {
   "cell_type": "code",
   "execution_count": 10,
   "metadata": {
    "autoscroll": false,
    "collapsed": false,
    "ein.tags": "worksheet-0",
    "slideshow": {
     "slide_type": "-"
    }
   },
   "outputs": [
    {
     "name": "stdout",
     "output_type": "stream",
     "text": [
      "This is no valid number, Try it again....\n"
     ]
    }
   ],
   "source": [
    "while True:\n",
    "      try:\n",
    "        x = int(input('Please input a number:'))\n",
    "        break\n",
    "      except ValueError:\n",
    "        print('This is no valid number, Try it again....')"
   ]
  },
  {
   "cell_type": "markdown",
   "metadata": {
    "ein.tags": "worksheet-0",
    "slideshow": {
     "slide_type": "-"
    }
   },
   "source": [
    "### try/finally\n",
    "### try/except/finally\n",
    "### Raising exceptions"
   ]
  },
  {
   "cell_type": "markdown",
   "metadata": {
    "ein.tags": "worksheet-0",
    "slideshow": {
     "slide_type": "-"
    }
   },
   "source": [
    "## 1.2.9 面向对象"
   ]
  },
  {
   "cell_type": "code",
   "execution_count": 11,
   "metadata": {
    "autoscroll": false,
    "collapsed": false,
    "ein.tags": "worksheet-0",
    "slideshow": {
     "slide_type": "-"
    }
   },
   "outputs": [],
   "source": [
    "class Student(object):\n",
    "    def __init__(self, name):\n",
    "        self.name = name\n",
    "    def set_age(self, age):\n",
    "        self.age = age\n",
    "    def set_major(self, major):\n",
    "        self.major = major"
   ]
  },
  {
   "cell_type": "code",
   "execution_count": 12,
   "metadata": {
    "autoscroll": false,
    "collapsed": false,
    "ein.tags": "worksheet-0",
    "slideshow": {
     "slide_type": "-"
    }
   },
   "outputs": [],
   "source": [
    "class MasterStudent(Student):\n",
    "    internship = 'mandatory, from March to June'"
   ]
  },
  {
   "cell_type": "code",
   "execution_count": 13,
   "metadata": {
    "autoscroll": false,
    "collapsed": false,
    "ein.tags": "worksheet-0",
    "slideshow": {
     "slide_type": "-"
    }
   },
   "outputs": [
    {
     "data": {
      "text/plain": [
       "'mandatory, from March to June'"
      ]
     },
     "execution_count": 13,
     "metadata": {},
     "output_type": "execute_result"
    }
   ],
   "source": [
    "james = MasterStudent('james')\n",
    "james.internship"
   ]
  },
  {
   "cell_type": "code",
   "execution_count": 14,
   "metadata": {
    "autoscroll": false,
    "collapsed": false,
    "ein.tags": "worksheet-0",
    "slideshow": {
     "slide_type": "-"
    }
   },
   "outputs": [
    {
     "data": {
      "text/plain": [
       "23"
      ]
     },
     "execution_count": 14,
     "metadata": {},
     "output_type": "execute_result"
    }
   ],
   "source": [
    "james.set_age(23)\n",
    "james.age"
   ]
  }
 ],
 "metadata": {
  "kernelspec": {
   "display_name": "Python 3",
   "name": "python3"
  },
  "language_info": {
   "codemirror_mode": {
    "name": "ipython",
    "version": 3
   },
   "file_extension": ".py",
   "mimetype": "text/x-python",
   "name": "python",
   "nbconvert_exporter": "python",
   "pygments_lexer": "ipython3",
   "version": "3.6.4"
  },
  "name": "02_The_Python_language.ipynb"
 },
 "nbformat": 4,
 "nbformat_minor": 2
}
