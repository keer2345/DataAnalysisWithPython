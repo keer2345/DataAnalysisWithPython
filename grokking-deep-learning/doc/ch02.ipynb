{
 "cells": [
  {
   "cell_type": "markdown",
   "metadata": {},
   "source": [
    "# 2. Fundamental Concepts: How do machines learn?"
   ]
  },
  {
   "cell_type": "markdown",
   "metadata": {},
   "source": [
    "- What are Deep Learning, Machine Learning, and Artificial Intelligence?\n",
    "- What is a Parametric Model?\n",
    "- What is a Non-Parametric Model?\n",
    "- What is Supervised Learning?\n",
    "- What is Unsupervised Learning?\n",
    "- How can machines learn?\n",
    "\n",
    "> Machine Learning will cause every successful IPO win in 5 years\n",
    "> - Eric Schmidt (Google Chairman, 2016)"
   ]
  },
  {
   "cell_type": "markdown",
   "metadata": {},
   "source": [
    "## 2.1 What is Deep Learning?\n",
    "Deep Learning is a subfi eld of methods for Machine Learning\n",
    "\n",
    "## 2.2 What is Machine Learning?\n",
    "machine learning ~= monkey see monkey do\n",
    "\n",
    "## 2.3 Supervised Machine Learning\n",
    "Supervised Learning transforms one dataset into another.\n",
    "\n",
    "It is useful for taking what we do know as input and quickly transforming it\n",
    "into what we want to know.\n",
    "\n",
    "## 2.4 Unsupervised Machine Learning\n",
    "Unsupervised Learning groups your data.\n",
    "\n",
    "## 2.5 Parametric vs Non-Parametric Learning\n",
    "Oversimplifi ed: Trial and error learning versus counting and probability\n",
    "\n",
    "A parametric model is characterized by having a fi xed number of parameters whereas\n",
    "a non-parametric model's number of parameters is infi nite (determined by data).\n",
    "\n",
    "## 2.6 Supervised Parametric Learning\n",
    "Oversimplifi ed: Trial and error learning using knobs\n",
    "\n",
    "## 2.7 Unsupervised Parametric Learning\n",
    "\n",
    "## 2.8 Non-Parametric Learning"
   ]
  }
 ],
 "metadata": {
  "kernelspec": {
   "display_name": "Python 3",
   "language": "python",
   "name": "python3"
  },
  "language_info": {
   "codemirror_mode": {
    "name": "ipython",
    "version": 3
   },
   "file_extension": ".py",
   "mimetype": "text/x-python",
   "name": "python",
   "nbconvert_exporter": "python",
   "pygments_lexer": "ipython3",
   "version": "3.7.2rc1"
  }
 },
 "nbformat": 4,
 "nbformat_minor": 2
}
