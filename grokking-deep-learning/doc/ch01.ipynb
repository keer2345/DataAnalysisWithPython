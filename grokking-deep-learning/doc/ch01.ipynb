{
 "cells": [
  {
   "cell_type": "markdown",
   "metadata": {},
   "source": [
    "# 1 Introducing Deep Learning: Why you should learn it"
   ]
  },
  {
   "cell_type": "markdown",
   "metadata": {},
   "source": [
    "- Why you should learn deep learning\n",
    "- Why you should read this book\n",
    "- What you need to get started"
   ]
  },
  {
   "cell_type": "markdown",
   "metadata": {},
   "source": [
    "> Do not worry about your difficulties in mathematics.\n",
    "I can assure you mine are still greater.\n",
    "\n",
    "> —Albert Einstein"
   ]
  },
  {
   "cell_type": "markdown",
   "metadata": {},
   "source": [
    "## 1.1   Welcome to Grokking Deep Learning\n",
    "\n",
    "You're about to learn some of the most valuable skills of the century!\n"
   ]
  },
  {
   "cell_type": "markdown",
   "metadata": {},
   "source": [
    "## 1.2   Why you should learn Deep Learning\n",
    "- It is a powerful tool for the incremental automation of intelligence.\n",
    "- Deep Learning has the potential for significant automation of skilled labor.\n",
    "- It's fun and incredibly creative. You will discover much about what it is to be human by trying to simulate intelligence and creativity.\n",
    "\n",
    "## 1.3   Will this be hard to learn?\n",
    "\n",
    "## 1.4   Why you should read this book\n",
    "## 1.5   Why you should read this book (cont.)\n",
    "- To help you understand what's inside a framework (Torch, TensorFlow, etc.).\n",
    "- All math related material will be backed by intuitive analogies.\n",
    "- Everything after the introduction chapters is \"project\" based.\n",
    "\n",
    "> Everything should be made as simple as possible, but no simpler\n",
    "\n",
    "> -- Albert Einstein\n",
    "\n",
    "## 1.6   What you need to get started\n",
    "- Install Jupyter Notebook and the NumPy python library\n",
    "- Pass High School Mathematics\n",
    "- Find a personal problem you are interested in\n",
    "\n",
    "## 1.7   You'll probably need some Python knowledge"
   ]
  }
 ],
 "metadata": {
  "kernelspec": {
   "display_name": "Python 3",
   "language": "python",
   "name": "python3"
  },
  "language_info": {
   "codemirror_mode": {
    "name": "ipython",
    "version": 3
   },
   "file_extension": ".py",
   "mimetype": "text/x-python",
   "name": "python",
   "nbconvert_exporter": "python",
   "pygments_lexer": "ipython3",
   "version": "3.7.3"
  },
  "toc": {
   "base_numbering": 1,
   "nav_menu": {},
   "number_sections": true,
   "sideBar": true,
   "skip_h1_title": false,
   "title_cell": "Table of Contents",
   "title_sidebar": "Contents",
   "toc_cell": false,
   "toc_position": {},
   "toc_section_display": true,
   "toc_window_display": false
  }
 },
 "nbformat": 4,
 "nbformat_minor": 2
}
