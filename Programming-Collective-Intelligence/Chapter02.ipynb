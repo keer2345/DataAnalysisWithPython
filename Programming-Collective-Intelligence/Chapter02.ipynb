{
 "cells": [
  {
   "cell_type": "markdown",
   "metadata": {},
   "source": [
    "# Chapter02 提供推荐\n",
    "## 协作型过滤\n",
    "## 搜集偏好"
   ]
  },
  {
   "cell_type": "code",
   "execution_count": 1,
   "metadata": {
    "code_folding": []
   },
   "outputs": [],
   "source": [
    "critics = {\n",
    "    'Lisa Rose': {\n",
    "        'Lady in the Water': 2.5,\n",
    "        'Snakes on a Plane': 3.5,\n",
    "        'Just My Luck': 3.0,\n",
    "        'Superman Returns': 3.5,\n",
    "        'You, Me and Dupree': 2.5,\n",
    "        'The Night Listener': 3.0\n",
    "    },\n",
    "    'Gene Seymour': {\n",
    "        'Lady in the Water': 3.0,\n",
    "        'Snakes on a Plane': 3.5,\n",
    "        'Just My Luck': 1.5,\n",
    "        'Superman Returns': 5.0,\n",
    "        'The Night Listener': 3.0,\n",
    "        'You, Me and Dupree': 3.5\n",
    "    },\n",
    "    'Michael Phillips': {\n",
    "        'Lady in the Water': 2.5,\n",
    "        'Snakes on a Plane': 3.0,\n",
    "        'Superman Returns': 3.5,\n",
    "        'The Night Listener': 4.0\n",
    "    },\n",
    "    'Claudia Puig': {\n",
    "        'Snakes on a Plane': 3.5,\n",
    "        'Just My Luck': 3.0,\n",
    "        'The Night Listener': 4.5,\n",
    "        'Superman Returns': 4.0,\n",
    "        'You, Me and Dupree': 2.5\n",
    "    },\n",
    "    'Mick LaSalle': {\n",
    "        'Lady in the Water': 3.0,\n",
    "        'Snakes on a Plane': 4.0,\n",
    "        'Just My Luck': 2.0,\n",
    "        'Superman Returns': 3.0,\n",
    "        'The Night Listener': 3.0,\n",
    "        'You, Me and Dupree': 2.0\n",
    "    },\n",
    "    'Jack Matthews': {\n",
    "        'Lady in the Water': 3.0,\n",
    "        'Snakes on a Plane': 4.0,\n",
    "        'The Night Listener': 3.0,\n",
    "        'Superman Returns': 5.0,\n",
    "        'You, Me and Dupree': 3.5\n",
    "    },\n",
    "    'Toby': {\n",
    "        'Snakes on a Plane': 4.5,\n",
    "        'You, Me and Dupree': 1.0,\n",
    "        'Superman Returns': 4.0\n",
    "    }\n",
    "}"
   ]
  },
  {
   "cell_type": "code",
   "execution_count": 2,
   "metadata": {},
   "outputs": [
    {
     "data": {
      "text/plain": [
       "2.5"
      ]
     },
     "execution_count": 2,
     "metadata": {},
     "output_type": "execute_result"
    }
   ],
   "source": [
    "critics['Lisa Rose']['Lady in the Water']"
   ]
  },
  {
   "cell_type": "code",
   "execution_count": 3,
   "metadata": {},
   "outputs": [
    {
     "data": {
      "text/plain": [
       "{'Lady in the Water': 3.5,\n",
       " 'Snakes on a Plane': 3.5,\n",
       " 'Just My Luck': 3.0,\n",
       " 'Superman Returns': 3.5,\n",
       " 'You, Me and Dupree': 2.5,\n",
       " 'The Night Listener': 3.0}"
      ]
     },
     "execution_count": 3,
     "metadata": {},
     "output_type": "execute_result"
    }
   ],
   "source": [
    "critics['Lisa Rose']['Lady in the Water'] = 3.5\n",
    "critics['Lisa Rose']"
   ]
  },
  {
   "cell_type": "code",
   "execution_count": 4,
   "metadata": {},
   "outputs": [
    {
     "data": {
      "text/plain": [
       "{'Lady in the Water': 2.5,\n",
       " 'Snakes on a Plane': 3.5,\n",
       " 'Just My Luck': 3.0,\n",
       " 'Superman Returns': 3.5,\n",
       " 'You, Me and Dupree': 2.5,\n",
       " 'The Night Listener': 3.0}"
      ]
     },
     "execution_count": 4,
     "metadata": {},
     "output_type": "execute_result"
    }
   ],
   "source": [
    "critics['Lisa Rose']['Lady in the Water'] = 2.5\n",
    "critics['Lisa Rose']"
   ]
  },
  {
   "cell_type": "markdown",
   "metadata": {},
   "source": [
    "## 寻找相近的用户\n",
    "- 欧几里得距离\n",
    "- 皮尔逊相关度\n",
    "\n",
    "### 欧几里得距离\n",
    "\n",
    "$d = \\sqrt{\\sum_{i=1}^{n} (x_i-y_i)^2 }$，那么，$\\frac{  1}{ 1 + d }$ 的值越接近 1，则两个用户越相近。"
   ]
  },
  {
   "cell_type": "code",
   "execution_count": 59,
   "metadata": {},
   "outputs": [],
   "source": [
    "from math import sqrt\n",
    "\n",
    "\n",
    "# Returns a distance-based similarity score for person1 and person2\n",
    "def sim_distance(prefs, person1, person2):\n",
    "    # Get the list of shared_items\n",
    "    si = {}\n",
    "    for item in prefs[person1]:\n",
    "        if item in prefs[person2]:\n",
    "            si[item] = 1\n",
    "\n",
    "    # if they have no ratings in common, return 0\n",
    "    if len(si) == 0: return 0\n",
    "    \n",
    "    # Add up the squares of all the differences\n",
    "    sum_of_squares = sum(\n",
    "        [pow(prefs[person1][item] - prefs[person2][item], 2) for item in si])\n",
    "    return 1 / (1 + sqrt(sum_of_squares))"
   ]
  },
  {
   "cell_type": "code",
   "execution_count": 60,
   "metadata": {},
   "outputs": [
    {
     "name": "stdout",
     "output_type": "stream",
     "text": [
      "0.29429805508554946\n"
     ]
    }
   ],
   "source": [
    "d = sim_distance(critics, 'Lisa Rose', 'Gene Seymour')\n",
    "print(d)"
   ]
  },
  {
   "cell_type": "code",
   "execution_count": 61,
   "metadata": {},
   "outputs": [
    {
     "name": "stdout",
     "output_type": "stream",
     "text": [
      "0.38742588672279304\n"
     ]
    }
   ],
   "source": [
    "d = sim_distance(critics, 'Lisa Rose', 'Claudia Puig')\n",
    "print(d)"
   ]
  },
  {
   "cell_type": "markdown",
   "metadata": {},
   "source": [
    "### 皮尔逊相关度评价\n",
    "其值介于 `-1` 与 `1` 之间,其中, `1` 表示变量完全正相关, `0` 表示无关,`-1` 表示完全负相关。负相关关系是指两个现象的变化方向相反，也可理解成事态发展的对立关系的这一概念。\n",
    "\n",
    "负相关关系用通俗的话说，负相关就是两个量，其中一个变大时，另一个就变小，一个变小时，另一个就变大，反之亦然。"
   ]
  },
  {
   "cell_type": "markdown",
   "metadata": {},
   "source": [
    "$$r= \\frac {\\sum X Y - \\frac{\\sum X  \\sum Y}{N}}{\\sqrt{(\\sum X^2 - \\frac{(\\sum X)^2}{N}) (\\sum Y^2 - \\frac{(\\sum Y)^2}{N})}}$$"
   ]
  },
  {
   "cell_type": "code",
   "execution_count": 62,
   "metadata": {},
   "outputs": [],
   "source": [
    "# Returns the Pearson correlation coefficient for p1 and p2\n",
    "def sim_pearson(prefs, p1, p2):\n",
    "    #     Get the list of mutually rated items\n",
    "    si = {}\n",
    "\n",
    "    for item in prefs[p1]:\n",
    "        if item in prefs[p2]:\n",
    "            si[item] = 1\n",
    "\n",
    "    n = len(si)\n",
    "    #      if they are no ratings in common, return 0\n",
    "    if n == 0: return 0\n",
    "\n",
    "    # Sums of all the preferences\n",
    "    sum1 = sum([prefs[p1][item] for item in si])\n",
    "    sum2 = sum([prefs[p2][item] for item in si])\n",
    "\n",
    "    # Sums of square\n",
    "    sum1Sq = sum([pow(prefs[p1][item], 2) for item in si])\n",
    "    sum2Sq = sum([pow(prefs[p2][item], 2) for item in si])\n",
    "\n",
    "    # Sum of the products\n",
    "    pSum = sum([prefs[p1][item] * prefs[p2][item] for item in si])\n",
    "\n",
    "    # Calculate r (Pearson score)\n",
    "    num = pSum - (sum1 * sum2 / n)\n",
    "    den = sqrt((sum1Sq - pow(sum1, 2) / n) * (sum2Sq - pow(sum2, 2) / n))\n",
    "    if den == 0: return 0\n",
    "\n",
    "    r = num / den\n",
    "\n",
    "    return r"
   ]
  },
  {
   "cell_type": "code",
   "execution_count": 63,
   "metadata": {},
   "outputs": [
    {
     "name": "stdout",
     "output_type": "stream",
     "text": [
      "0.39605901719066977\n"
     ]
    }
   ],
   "source": [
    "person_distance = sim_pearson(critics, 'Lisa Rose', 'Gene Seymour')\n",
    "print(person_distance)"
   ]
  },
  {
   "cell_type": "code",
   "execution_count": 64,
   "metadata": {},
   "outputs": [
    {
     "name": "stdout",
     "output_type": "stream",
     "text": [
      "0.5669467095138396\n"
     ]
    }
   ],
   "source": [
    "person_distance = sim_pearson(critics, 'Lisa Rose', 'Claudia Puig')\n",
    "print(person_distance)"
   ]
  },
  {
   "cell_type": "markdown",
   "metadata": {},
   "source": [
    "### 其他算法\n",
    "- Jaccard 系数\n",
    "- 曼哈顿距离算法\n",
    "\n",
    "了解其他用于比较的度量算法：https://en.wikipedia.org/wiki/Metric_%28mathematics%29#Examples\n",
    "\n",
    "### 为评论者打分"
   ]
  },
  {
   "cell_type": "code",
   "execution_count": 96,
   "metadata": {},
   "outputs": [],
   "source": [
    "def topMatches(prefs, person, n=5, similarity=sim_pearson):\n",
    "    scores = [(similarity(prefs, person, other), other) for other in prefs\n",
    "              if other != person]\n",
    "\n",
    "    scores.sort()\n",
    "    scores.reverse()\n",
    "    return scores[0:n]"
   ]
  },
  {
   "cell_type": "code",
   "execution_count": 97,
   "metadata": {
    "scrolled": true
   },
   "outputs": [
    {
     "data": {
      "text/plain": [
       "[(0.9912407071619299, 'Lisa Rose'),\n",
       " (0.9244734516419049, 'Mick LaSalle'),\n",
       " (0.8934051474415647, 'Claudia Puig')]"
      ]
     },
     "execution_count": 97,
     "metadata": {},
     "output_type": "execute_result"
    }
   ],
   "source": [
    "topMatches(critics, 'Toby', n=3)"
   ]
  },
  {
   "cell_type": "markdown",
   "metadata": {},
   "source": [
    "## 推荐物品"
   ]
  },
  {
   "cell_type": "code",
   "execution_count": 75,
   "metadata": {},
   "outputs": [],
   "source": [
    "def getRecommendations(prefs, person, similarity=sim_pearson):\n",
    "    totals = {}\n",
    "    simSums = {}\n",
    "    for other in prefs:\n",
    "        # 不和自己做比较\n",
    "        if other == person: continue\n",
    "        sim = similarity(prefs, person, other)\n",
    "\n",
    "        if sim <= 0: continue\n",
    "        for item in prefs[other]:\n",
    "            if item not in prefs[person] or prefs[person][item] == 0:\n",
    "                totals.setdefault(item, 0)\n",
    "                totals[item] += prefs[other][item] * sim\n",
    "\n",
    "                simSums.setdefault(item, 0)\n",
    "                simSums[item] += sim\n",
    "\n",
    "    rankings = [(total / simSums[item], item) for item, total in totals.items()]\n",
    "\n",
    "    rankings.sort()\n",
    "    rankings.reverse()\n",
    "    return rankings"
   ]
  },
  {
   "cell_type": "code",
   "execution_count": 76,
   "metadata": {},
   "outputs": [
    {
     "data": {
      "text/plain": [
       "[(3.3477895267131017, 'The Night Listener'),\n",
       " (2.8325499182641614, 'Lady in the Water'),\n",
       " (2.530980703765565, 'Just My Luck')]"
      ]
     },
     "execution_count": 76,
     "metadata": {},
     "output_type": "execute_result"
    }
   ],
   "source": [
    "getRecommendations(critics,'Toby')"
   ]
  },
  {
   "cell_type": "code",
   "execution_count": 77,
   "metadata": {},
   "outputs": [
    {
     "data": {
      "text/plain": [
       "[(3.457128694491423, 'The Night Listener'),\n",
       " (2.778584003814924, 'Lady in the Water'),\n",
       " (2.422482042361917, 'Just My Luck')]"
      ]
     },
     "execution_count": 77,
     "metadata": {},
     "output_type": "execute_result"
    }
   ],
   "source": [
    "getRecommendations(critics,'Toby',similarity=sim_distance)"
   ]
  },
  {
   "cell_type": "markdown",
   "metadata": {},
   "source": [
    "## 匹配商品\n",
    "先转换字典，将\n",
    "```\n",
    "{'Lisa Rose': {'Lady in the Water': 2.5, 'Snakes on a Plane': 3.5},\n",
    "'Gene Seymour': {'Lady in the Water': 3.0, 'Snakes on a Plane': 3.5}}\n",
    "```\n",
    "转换成：\n",
    "```\n",
    "{'Lady in the Water':{'Lisa Rose':2.5,'Gene Seymour':3.0},\n",
    "'Snakes on a Plane':{'Lisa Rose':3.5,'Gene Seymour':3.5}} etc..\n",
    "```"
   ]
  },
  {
   "cell_type": "code",
   "execution_count": 84,
   "metadata": {},
   "outputs": [],
   "source": [
    "def transformPrefs(prefs):\n",
    "    result = {}\n",
    "    for person in prefs:\n",
    "        for item in prefs[person]:\n",
    "            result.setdefault(item, {})\n",
    "            result[item][person] = prefs[person][item]\n",
    "    return result"
   ]
  },
  {
   "cell_type": "code",
   "execution_count": 87,
   "metadata": {},
   "outputs": [
    {
     "data": {
      "text/plain": [
       "{'Lady in the Water': {'Lisa Rose': 2.5,\n",
       "  'Gene Seymour': 3.0,\n",
       "  'Michael Phillips': 2.5,\n",
       "  'Mick LaSalle': 3.0,\n",
       "  'Jack Matthews': 3.0},\n",
       " 'Snakes on a Plane': {'Lisa Rose': 3.5,\n",
       "  'Gene Seymour': 3.5,\n",
       "  'Michael Phillips': 3.0,\n",
       "  'Claudia Puig': 3.5,\n",
       "  'Mick LaSalle': 4.0,\n",
       "  'Jack Matthews': 4.0,\n",
       "  'Toby': 4.5},\n",
       " 'Just My Luck': {'Lisa Rose': 3.0,\n",
       "  'Gene Seymour': 1.5,\n",
       "  'Claudia Puig': 3.0,\n",
       "  'Mick LaSalle': 2.0},\n",
       " 'Superman Returns': {'Lisa Rose': 3.5,\n",
       "  'Gene Seymour': 5.0,\n",
       "  'Michael Phillips': 3.5,\n",
       "  'Claudia Puig': 4.0,\n",
       "  'Mick LaSalle': 3.0,\n",
       "  'Jack Matthews': 5.0,\n",
       "  'Toby': 4.0},\n",
       " 'You, Me and Dupree': {'Lisa Rose': 2.5,\n",
       "  'Gene Seymour': 3.5,\n",
       "  'Claudia Puig': 2.5,\n",
       "  'Mick LaSalle': 2.0,\n",
       "  'Jack Matthews': 3.5,\n",
       "  'Toby': 1.0},\n",
       " 'The Night Listener': {'Lisa Rose': 3.0,\n",
       "  'Gene Seymour': 3.0,\n",
       "  'Michael Phillips': 4.0,\n",
       "  'Claudia Puig': 4.5,\n",
       "  'Mick LaSalle': 3.0,\n",
       "  'Jack Matthews': 3.0}}"
      ]
     },
     "execution_count": 87,
     "metadata": {},
     "output_type": "execute_result"
    }
   ],
   "source": [
    "movies = transformPrefs(critics)\n",
    "movies"
   ]
  },
  {
   "cell_type": "markdown",
   "metadata": {},
   "source": [
    "然后调用 `topMatches` 函数，得到一组与 *Superman Returns* 最为相近的影片："
   ]
  },
  {
   "cell_type": "code",
   "execution_count": 89,
   "metadata": {},
   "outputs": [
    {
     "data": {
      "text/plain": [
       "[(0.6579516949597695, 'You, Me and Dupree'),\n",
       " (0.4879500364742689, 'Lady in the Water'),\n",
       " (0.11180339887498941, 'Snakes on a Plane'),\n",
       " (-0.1798471947990544, 'The Night Listener'),\n",
       " (-0.42289003161103106, 'Just My Luck')]"
      ]
     },
     "execution_count": 89,
     "metadata": {},
     "output_type": "execute_result"
    }
   ],
   "source": [
    "topMatches(movies, 'Superman Returns')"
   ]
  },
  {
   "cell_type": "markdown",
   "metadata": {},
   "source": [
    "我们也可以为影片推荐评论者："
   ]
  },
  {
   "cell_type": "code",
   "execution_count": 90,
   "metadata": {},
   "outputs": [
    {
     "data": {
      "text/plain": [
       "[(4.0, 'Michael Phillips'), (3.0, 'Jack Matthews')]"
      ]
     },
     "execution_count": 90,
     "metadata": {},
     "output_type": "execute_result"
    }
   ],
   "source": [
    "getRecommendations(movies, 'Just My Luck')"
   ]
  },
  {
   "cell_type": "markdown",
   "metadata": {},
   "source": [
    "# 构建一个基于 del.icio.us 的链接推荐系统\n",
    "> http://del.icio.us\n",
    "\n",
    "[下载 pydelicious](https://code.google.com/archive/p/pydelicious/downloads)安装，这是一个 python2 的版本，在 python3 下，需要用这个 `__init__py` [下载](http://storage.googleapis.com/google-code-attachments/pydelicious/issue-43/comment-12/__init__.py) 覆盖 `pydelicious/__init__.py`。"
   ]
  },
  {
   "cell_type": "code",
   "execution_count": null,
   "metadata": {},
   "outputs": [],
   "source": [
    "import pydelicious\n",
    "pydelicious.get_popular(tag = 'programming')"
   ]
  },
  {
   "cell_type": "code",
   "execution_count": null,
   "metadata": {},
   "outputs": [],
   "source": []
  }
 ],
 "metadata": {
  "kernelspec": {
   "display_name": "Python 3",
   "language": "python",
   "name": "python3"
  },
  "language_info": {
   "codemirror_mode": {
    "name": "ipython",
    "version": 3
   },
   "file_extension": ".py",
   "mimetype": "text/x-python",
   "name": "python",
   "nbconvert_exporter": "python",
   "pygments_lexer": "ipython3",
   "version": "3.7.3"
  }
 },
 "nbformat": 4,
 "nbformat_minor": 2
}
