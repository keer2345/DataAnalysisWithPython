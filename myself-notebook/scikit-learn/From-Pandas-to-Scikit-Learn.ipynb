{
 "cells": [
  {
   "cell_type": "markdown",
   "metadata": {},
   "source": [
    "# From Pandas to Scikit-Learn — A new exciting workflow\n",
    "> https://medium.com/dunder-data/from-pandas-to-scikit-learn-a-new-exciting-workflow-e88e2271ef62\n",
    "\n",
    "新的列变换（ColumnTransformer）将改变从 Pandas 到 Scikit-Learn 的工作流\n",
    "![](https://cdn-images-1.medium.com/max/800/1*gSZo0-uYFVTkjJg2pVgcnA.png)\n",
    "\n",
    "## Scikit-learn 和 Pandas 的整合\n",
    "Scikit-learn 将迎来近年来的最大升级（版本 0.20 release）。对于很多的数据科学家来说，典型的工作流是在深入 Scikit-learn 机器学习之前使用 Pandas 来探索资料分析。新的版本将使得这一过程更简单，更多新特性，以及标准化。"
   ]
  },
  {
   "cell_type": "code",
   "execution_count": null,
   "metadata": {},
   "outputs": [],
   "source": []
  }
 ],
 "metadata": {
  "kernelspec": {
   "display_name": "Python 3",
   "language": "python",
   "name": "python3"
  },
  "language_info": {
   "codemirror_mode": {
    "name": "ipython",
    "version": 3
   },
   "file_extension": ".py",
   "mimetype": "text/x-python",
   "name": "python",
   "nbconvert_exporter": "python",
   "pygments_lexer": "ipython3",
   "version": "3.7.2"
  }
 },
 "nbformat": 4,
 "nbformat_minor": 2
}
