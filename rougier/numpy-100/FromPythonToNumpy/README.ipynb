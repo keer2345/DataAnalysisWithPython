{
 "cells": [
  {
   "cell_type": "markdown",
   "metadata": {},
   "source": [
    "<div align=\"center\" style=\"font-size:36px\"><a target='_blank' href='https://www.labri.fr/perso/nrougier/from-python-to-numpy/'>From Python to Numpy</a></div>"
   ]
  },
  {
   "cell_type": "markdown",
   "metadata": {},
   "source": [
    "已经有相当多的关于 Numpy 的书籍（[参考列表](https://www.labri.fr/perso/nrougier/from-python-to-numpy/#bibliography)，你会发现很多技术在这里学不到，而是需要依靠经验。本书的目的是解释其中的一些技术并在以后经验中提供使用的机会。\n",
    "\n",
    "目录：\n",
    "\n",
    "1. [Preface](ch01-perface.ipynb)\n",
    "    - About the author\n",
    "    - About this book\n",
    "    - License\n",
    "1. Introduction\n",
    "    - Simple example\n",
    "    - Readability vs speed\n",
    "1. Anatomy of an array\n",
    "    - Introduction\n",
    "    - Memory layout\n",
    "    - Views and copies\n",
    "    - Conclusion\n",
    "1. Code vectorization\n",
    "    - Introduction\n",
    "    - Uniform vectorization\n"
   ]
  }
 ],
 "metadata": {
  "kernelspec": {
   "display_name": "Python 3",
   "language": "python",
   "name": "python3"
  },
  "language_info": {
   "codemirror_mode": {
    "name": "ipython",
    "version": 3
   },
   "file_extension": ".py",
   "mimetype": "text/x-python",
   "name": "python",
   "nbconvert_exporter": "python",
   "pygments_lexer": "ipython3",
   "version": "3.7.4"
  },
  "toc": {
   "base_numbering": 1,
   "nav_menu": {},
   "number_sections": true,
   "sideBar": true,
   "skip_h1_title": false,
   "title_cell": "Table of Contents",
   "title_sidebar": "Contents",
   "toc_cell": false,
   "toc_position": {},
   "toc_section_display": true,
   "toc_window_display": false
  }
 },
 "nbformat": 4,
 "nbformat_minor": 2
}
