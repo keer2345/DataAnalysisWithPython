{
 "cells": [
  {
   "cell_type": "markdown",
   "metadata": {},
   "source": [
    "# About the author\n",
    "[Nicolas P. Rougier](http://www.labri.fr/perso/nrougier/) \n",
    "\n",
    "# About this book\n",
    "This book has been written in [restructured text](http://docutils.sourceforge.net/rst.html) format and generated using the `rst2html.py` command line available from the [docutils](http://docutils.sourceforge.net/) python package.\n",
    "\n",
    "If you want to rebuild the html output, from the top directory, type:\n",
    "\n",
    "```\n",
    "$ rst2html.py --link-stylesheet --cloak-email-addresses \\\n",
    "              --toc-top-backlinks --stylesheet=book.css \\\n",
    "              --stylesheet-dirs=. book.rst book.html\n",
    "```\n",
    "\n",
    "The sources are available from https://github.com/rougier/from-python-to-numpy.\n",
    "\n",
    "\n",
    "## Prerequisites\n",
    "have a look at the [bibliography](https://www.labri.fr/perso/nrougier/from-python-to-numpy/#bibliography) for a curated list of resources.\n",
    "\n",
    "## Conventions\n",
    "```\n",
    "import numpy as np\n",
    "import scipy as sp\n",
    "import matplotlib.pyplot as plt\n",
    "```\n",
    "\n",
    "We'll use up-to-date versions (at the date of writing, i.e. January, 2017) of the different packages:\n",
    "- Python\t3.6.0\n",
    "- Numpy\t1.12.0\n",
    "- Scipy\t0.18.1\n",
    "- Matplotlib\t2.0.0"
   ]
  }
 ],
 "metadata": {
  "kernelspec": {
   "display_name": "Python 3",
   "language": "python",
   "name": "python3"
  },
  "language_info": {
   "codemirror_mode": {
    "name": "ipython",
    "version": 3
   },
   "file_extension": ".py",
   "mimetype": "text/x-python",
   "name": "python",
   "nbconvert_exporter": "python",
   "pygments_lexer": "ipython3",
   "version": "3.7.4"
  },
  "toc": {
   "base_numbering": 1,
   "nav_menu": {},
   "number_sections": true,
   "sideBar": true,
   "skip_h1_title": false,
   "title_cell": "Table of Contents",
   "title_sidebar": "Contents",
   "toc_cell": false,
   "toc_position": {},
   "toc_section_display": true,
   "toc_window_display": false
  }
 },
 "nbformat": 4,
 "nbformat_minor": 2
}
