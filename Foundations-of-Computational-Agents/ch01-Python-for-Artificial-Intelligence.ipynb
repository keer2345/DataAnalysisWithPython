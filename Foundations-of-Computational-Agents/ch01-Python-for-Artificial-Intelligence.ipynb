{
 "cells": [
  {
   "cell_type": "markdown",
   "metadata": {
    "ein.tags": "worksheet-0",
    "slideshow": {
     "slide_type": "-"
    }
   },
   "source": [
    "# Chapter 1. Artificial Intelligence and Agents\n",
    "\n",
    ">人工智能的历史是一个幻想的历史,可能性,示威游行,并承诺。自从荷马写机械“三脚”等待神的晚餐,想象机械助理已经成为我们文化的一部分。然而,只有在过去的半个世纪,人工智能社区,能够构建实验机器测试假设思想和智能行为的机制,从而证明机制,以前只存在理论上的可能性。\n",
    "\n",
    "深层次的科学和工程问题已经解决,很多等待解决。目前许多实际应用部署和潜在的未来存在一个几乎无限数量的应用程序。在这本书中,我们目前的原则构成智能计算代理。这些原则可以帮助您了解当前和未来的工作在人工智能和装备你自己纪律作出贡献。\n",
    "\n",
    "## 1.1 What is Artificial Intelligence?\n",
    "**Artificial intelligence （人工智能）**是研究只能行动的计算代理的综合和分析的领域。让我们来看看这个定义的每个部分。\n",
    "\n",
    "**Agent （代理）**是在环境中的东西。代理包括蠕虫、狗、恒温器、飞机、机器人,人类,公司和国家。\n",
    "\n",
    "代理何时**智能**行事：\n",
    "- 考虑到其行动的短期和长期后果，它的作用是适合其情况和目标\n",
    "- 它对变化的环境和不断变化的目标都很灵活\n",
    "- 它从经验中学习\n",
    "- 鉴于其感知和计算限制，它做出了适当的选择\n",
    "\n",
    "考虑到其行动的短期和长期后果，它的作用是适合其情况和目标\n",
    "• 它对变化的环境和不断变化的目标都很灵活\n",
    "• 它从经验中学习\n",
    "• 鉴于其感知和计算限制，它做出了适当的选择\n",
    "\n",
    "一个计算代理是代理其决定有关其动作可以在计算方面来解释。也就是说，可以将决策分解为可以在物理设备中实现的原始操作。这种计算可以采用多种形式。在人类中，这种计算是在“湿软件”中进行的; 在计算机中，它是在“硬件”中实现的。虽然有些代理可以说是不计算的，例如风雨侵蚀了景观，但是所有智能代理都是计算的是一个悬而未决的问题。\n",
    "\n",
    "所有代理都是有限的。没有代理人是无所不知或无所不能的。代理商只能在非常专业的领域观察世界的一切，“世界”受到很大限制。代理具有有限的内存。现实世界中的代理人没有无限的时间采取行动。\n",
    "\n",
    "人工智能的核心科学目标是理解使自然或人工系统中的智能行为成为可能的原则。这是通过\n",
    "\n",
    "- 天然和人工代理的**分析**\n",
    "- 制定和测试关于构建智能代理和构建智能代理所需要的假设\n",
    "- 设计，构建和试验计算系统，执行通常被视为需要智能的任务。\n",
    "\n",
    "作为科学的一部分，研究人员建立经验系统来检验假设或探索可能的设计空间。这些与为应用程序域构建的应用程序完全不同。\n",
    "\n",
    "这个定义不仅仅是为了智能思想。我们只对智能思考感兴趣，因为它会带来更智能的行为。思想的作用是影响行动。\n",
    "\n",
    "AI 的核心工程目标是设计和合成有用的智能工件。我们实际上想要构建智能行动的代理。这些代理在许多应用中是有用的。"
   ]
  },
  {
   "cell_type": "markdown",
   "metadata": {},
   "source": [
    "### 1.1.1 Artificial and Natural Intelligence"
   ]
  },
  {
   "cell_type": "markdown",
   "metadata": {},
   "source": [
    "# Python for Artificial Intelligence"
   ]
  },
  {
   "cell_type": "markdown",
   "metadata": {
    "ein.tags": "worksheet-0",
    "slideshow": {
     "slide_type": "-"
    }
   },
   "source": [
    "## 1.1 Why Python?\n",
    "## 1.2 Getting Python\n",
    "## 1.3 Running Python\n",
    "## 1.4 Pitfalls\n",
    "意识到副作用的发生是很重要的。通常 AI 持续认为会发生什么，或者可能发生什么。许多情况下，我们并不想要副作用。\n",
    "\n",
    "在 Python 中，我们需要当心并了解副作用。例如，廉价的函数将元素添加到列表，使用 *append* 改变列表。在类似 Lisp 的函数式语言中，给列表添加元素并不会改变原始列表，这是一个廉价的操作。\n",
    "\n",
    "## 1.5 Features of Python\n",
    "### 1.5.1 Lists, Tuples, Sets, Dictionaries and Comprehensions\n",
    "Python 一个很良好的特性是综合列表（list comprehensions) ：\n",
    "\n",
    "(*fe* for *e* in *iter* if *conf*)\n",
    "\n",
    "对 *cond* 条件为真的 *iter* 中的 *e* ，将枚举值 *fe*："
   ]
  },
  {
   "cell_type": "code",
   "execution_count": 15,
   "metadata": {},
   "outputs": [
    {
     "data": {
      "text/plain": [
       "[0, 4, 16, 36]"
      ]
     },
     "execution_count": 15,
     "metadata": {},
     "output_type": "execute_result"
    }
   ],
   "source": [
    "[e*e for e in range(8) if e%2==0]"
   ]
  },
  {
   "cell_type": "code",
   "execution_count": 19,
   "metadata": {},
   "outputs": [],
   "source": [
    "a = (e*e for e in range(8) if e%2==0)"
   ]
  },
  {
   "cell_type": "code",
   "execution_count": 20,
   "metadata": {},
   "outputs": [
    {
     "data": {
      "text/plain": [
       "<generator object <genexpr> at 0x7f70746cb930>"
      ]
     },
     "execution_count": 20,
     "metadata": {},
     "output_type": "execute_result"
    }
   ],
   "source": [
    "a"
   ]
  },
  {
   "cell_type": "code",
   "execution_count": 21,
   "metadata": {},
   "outputs": [
    {
     "data": {
      "text/plain": [
       "0"
      ]
     },
     "execution_count": 21,
     "metadata": {},
     "output_type": "execute_result"
    }
   ],
   "source": [
    "next(a)"
   ]
  },
  {
   "cell_type": "code",
   "execution_count": 22,
   "metadata": {},
   "outputs": [
    {
     "data": {
      "text/plain": [
       "4"
      ]
     },
     "execution_count": 22,
     "metadata": {},
     "output_type": "execute_result"
    }
   ],
   "source": [
    "next(a)"
   ]
  },
  {
   "cell_type": "code",
   "execution_count": 23,
   "metadata": {},
   "outputs": [
    {
     "data": {
      "text/plain": [
       "16"
      ]
     },
     "execution_count": 23,
     "metadata": {},
     "output_type": "execute_result"
    }
   ],
   "source": [
    "next(a)"
   ]
  },
  {
   "cell_type": "code",
   "execution_count": 24,
   "metadata": {},
   "outputs": [
    {
     "data": {
      "text/plain": [
       "36"
      ]
     },
     "execution_count": 24,
     "metadata": {},
     "output_type": "execute_result"
    }
   ],
   "source": [
    "next(a)"
   ]
  },
  {
   "cell_type": "code",
   "execution_count": 25,
   "metadata": {},
   "outputs": [
    {
     "ename": "StopIteration",
     "evalue": "",
     "output_type": "error",
     "traceback": [
      "\u001b[0;31m---------------------------------------------------------------------------\u001b[0m",
      "\u001b[0;31mStopIteration\u001b[0m                             Traceback (most recent call last)",
      "\u001b[0;32m<ipython-input-25-15841f3f11d4>\u001b[0m in \u001b[0;36m<module>\u001b[0;34m\u001b[0m\n\u001b[0;32m----> 1\u001b[0;31m \u001b[0mnext\u001b[0m\u001b[0;34m(\u001b[0m\u001b[0ma\u001b[0m\u001b[0;34m)\u001b[0m\u001b[0;34m\u001b[0m\u001b[0;34m\u001b[0m\u001b[0m\n\u001b[0m",
      "\u001b[0;31mStopIteration\u001b[0m: "
     ]
    }
   ],
   "source": [
    "next(a)"
   ]
  },
  {
   "cell_type": "code",
   "execution_count": 30,
   "metadata": {},
   "outputs": [
    {
     "data": {
      "text/plain": [
       "[4, 16, 36]"
      ]
     },
     "execution_count": 30,
     "metadata": {},
     "output_type": "execute_result"
    }
   ],
   "source": [
    "b = (e*e for e in range(8) if e%2==0)\n",
    "next(b)\n",
    "list(b)"
   ]
  },
  {
   "cell_type": "code",
   "execution_count": 36,
   "metadata": {},
   "outputs": [
    {
     "data": {
      "text/plain": [
       "{'a': 4, 'f': 1, 'bar': 2, 'b': 3, 'aaaaa': 5}"
      ]
     },
     "execution_count": 36,
     "metadata": {},
     "output_type": "execute_result"
    }
   ],
   "source": [
    "a = [\"a\",\"f\",\"bar\",\"b\",\"a\",\"aaaaa\"]\n",
    "ind = {a[i]:i for i in range(len(a))}\n",
    "ind"
   ]
  },
  {
   "cell_type": "code",
   "execution_count": 37,
   "metadata": {},
   "outputs": [
    {
     "data": {
      "text/plain": [
       "3"
      ]
     },
     "execution_count": 37,
     "metadata": {},
     "output_type": "execute_result"
    }
   ],
   "source": [
    "ind['b']"
   ]
  },
  {
   "cell_type": "code",
   "execution_count": 39,
   "metadata": {},
   "outputs": [
    {
     "data": {
      "text/plain": [
       "{'a': 4, 'f': 1, 'bar': 2, 'b': 3, 'aaaaa': 5}"
      ]
     },
     "execution_count": 39,
     "metadata": {},
     "output_type": "execute_result"
    }
   ],
   "source": [
    "ind = {val:i for (i, val) in enumerate(a)}\n",
    "ind"
   ]
  },
  {
   "cell_type": "markdown",
   "metadata": {},
   "source": [
    "### 1.5.2 Functions as first-class objects\n",
    "### 1.5.3 Generators and Coroutines"
   ]
  },
  {
   "cell_type": "code",
   "execution_count": 42,
   "metadata": {},
   "outputs": [
    {
     "name": "stdout",
     "output_type": "stream",
     "text": [
      "myrange(2, 30, 3):  [2, 5, 8, 11, 14, 17, 20, 23, 26, 29]\n"
     ]
    }
   ],
   "source": [
    "def myrange(start, stop, step=1):\n",
    "    assert step > 0\n",
    "    i = start\n",
    "    while i < stop:\n",
    "        yield i\n",
    "        i = i + step\n",
    "        \n",
    "print(\"myrange(2, 30, 3): \", list(myrange(2, 30, 3)))"
   ]
  },
  {
   "cell_type": "code",
   "execution_count": 44,
   "metadata": {},
   "outputs": [
    {
     "data": {
      "text/plain": [
       "[0, 4, 16, 36]"
      ]
     },
     "execution_count": 44,
     "metadata": {},
     "output_type": "execute_result"
    }
   ],
   "source": [
    "def ga(n):\n",
    "    for e in range(n):\n",
    "        if e%2 == 0:\n",
    "            yield e*e\n",
    "\n",
    "a = ga(8)            \n",
    "list(a)"
   ]
  },
  {
   "cell_type": "code",
   "execution_count": 46,
   "metadata": {},
   "outputs": [
    {
     "data": {
      "text/plain": [
       "[(0, 'a'), (1, 'b'), (2, 'c'), (3, 'd'), (4, 'e'), (5, 'f'), (6, 'g')]"
      ]
     },
     "execution_count": 46,
     "metadata": {},
     "output_type": "execute_result"
    }
   ],
   "source": [
    "def myenumerate(str):\n",
    "    for i in range(len(str)):\n",
    "        yield i, str[i]\n",
    "s = myenumerate('abcdefg')\n",
    "list(s)"
   ]
  },
  {
   "cell_type": "markdown",
   "metadata": {},
   "source": [
    "## 1.6 Useful Libraries\n",
    "### 1.6.1 Timing Code\n",
    "为了比较算法，通常计算程序耗时，这称为程序的运行时间。计算耗时最常用的是 `time.perf_counter()`："
   ]
  },
  {
   "cell_type": "code",
   "execution_count": 56,
   "metadata": {},
   "outputs": [
    {
     "name": "stdout",
     "output_type": "stream",
     "text": [
      "Time:  3.002727334969677  seconds\n"
     ]
    }
   ],
   "source": [
    "import time\n",
    "start_time = time.perf_counter()\n",
    "time.sleep(3)\n",
    "end_time = time.perf_counter()\n",
    "print(\"Time: \", end_time - start_time, \" seconds\")"
   ]
  },
  {
   "cell_type": "code",
   "execution_count": 57,
   "metadata": {},
   "outputs": [
    {
     "data": {
      "text/plain": [
       "269297.769069423"
      ]
     },
     "execution_count": 57,
     "metadata": {},
     "output_type": "execute_result"
    }
   ],
   "source": [
    "start_time"
   ]
  },
  {
   "cell_type": "code",
   "execution_count": 58,
   "metadata": {},
   "outputs": [
    {
     "data": {
      "text/plain": [
       "269300.771796758"
      ]
     },
     "execution_count": 58,
     "metadata": {},
     "output_type": "execute_result"
    }
   ],
   "source": [
    "end_time"
   ]
  },
  {
   "cell_type": "markdown",
   "metadata": {},
   "source": [
    "更好的选择是使用 `timeit`。\n",
    "\n",
    "### 1.6.2 Plotting: Matplotlib"
   ]
  },
  {
   "cell_type": "code",
   "execution_count": 71,
   "metadata": {},
   "outputs": [
    {
     "data": {
      "image/png": "[encoded data removed]",
      "text/plain": [
       "<Figure size 432x288 with 1 Axes>"
      ]
     },
     "metadata": {
      "needs_background": "light"
     },
     "output_type": "display_data"
    }
   ],
   "source": [
    "import matplotlib.pyplot as plt\n",
    "import math\n",
    "\n",
    "def myplot(min, max, step, fun1, fun2):\n",
    "    plt.ion() # make it interactive\n",
    "    plt.xlabel(\"The x axis\")\n",
    "    plt.ylabel(\"The y axis\")\n",
    "    plt.xscale(\"linear\") # Make a 'log' or 'linear' scale\n",
    "    xvalues = range(min, max, step)\n",
    "    plt.plot(xvalues, [fun1(x) for x in xvalues],\n",
    "            label = \"The first fun\")\n",
    "    plt.plot(xvalues, [fun2(x) for x in xvalues], linestyle='--', color='red',\n",
    "            label=fun2.__doc__)\n",
    "    plt.legend(loc=\"upper right\") # display the legend\n",
    "\n",
    "def slin(x):\n",
    "    '''y = 2x + 7'''\n",
    "    return 2*x+7\n",
    "\n",
    "def sqfun(x):\n",
    "    '''y=(x-40)^2/10-20'''\n",
    "    return (x-40)**2/10-20\n",
    "\n",
    "myplot(0, 100, 1, slin, sqfun) "
   ]
  },
  {
   "cell_type": "markdown",
   "metadata": {},
   "source": [
    "## 1.7 Utilities\n",
    "### 1.7.1 Display"
   ]
  },
  {
   "cell_type": "code",
   "execution_count": 72,
   "metadata": {},
   "outputs": [],
   "source": [
    "# display.py\n",
    "\n",
    "class Displayable(object):\n",
    "    '''Class that uses \"display\".\n",
    "    The amount of detail is controlled by max_display_level\n",
    "    '''\n",
    "    max_display_level = 1 # can be overridden in subclasses\n",
    "    \n",
    "    def display(self, level, *args, **kwangs):\n",
    "        \"\"\"print the arguments if level is less than or equal to the\n",
    "        current max_display_level.\n",
    "        level is an integer.\n",
    "        the other arguments are whatever arguments print can take.\n",
    "        \"\"\"\n",
    "        if level <= self.max_display_level:\n",
    "            print(*args, **kwangs)\n",
    "            \n",
    "    def visualize(func):\n",
    "        \"\"\"A decorator for algorithms that do interactive visualization.\n",
    "        Ignored here\n",
    "        \"\"\"\n",
    "        return func"
   ]
  },
  {
   "cell_type": "markdown",
   "metadata": {},
   "source": [
    "### 1.7.2 Argmax\n",
    "获取最大值的索引：\n",
    "```python\n",
    "import random\n",
    "\n",
    "\n",
    "def argmax(gen):\n",
    "    \"\"\"gen is a generator of (element,value) pairs, where value is a real.\n",
    "    argmax returns an element with maximal value.\n",
    "    If there are multiple elements with the max value, one is returned at random.\n",
    "    \"\"\"\n",
    "    maxv = float('-Infinity')\n",
    "    maxvals = []\n",
    "    for (e, v) in gen:\n",
    "        if v > maxv:\n",
    "            maxvals, maxv = [e], v\n",
    "        elif v == maxv:\n",
    "            maxvals.append(e)\n",
    "    return random.choice(maxvals)\n",
    "```\n",
    "试一试：\n",
    "```\n",
    "argmax(enumerate([1,6,3,77,3,55,23]))\n",
    "```\n",
    "### 1.7.3 Probability\n",
    "在很多模拟中，我们希望一定概率下为真。\n",
    "```python\n",
    "def filip(prob):\n",
    "    \"\"\"return ture with probalility prob\"\"\"\n",
    "    return random.random() < prob\n",
    "```\n",
    "### 1.7.4 Dictionary Union"
   ]
  },
  {
   "cell_type": "code",
   "execution_count": 73,
   "metadata": {},
   "outputs": [],
   "source": [
    "def dict_union(d1, d2):\n",
    "    \"\"\"return a dictionary that contains the keys of d1 and d2.\n",
    "    The value for each key that is in d2 is the value from d2,\n",
    "    otherwise it is the value from d1.\n",
    "    This does not have side effects.\n",
    "    \"\"\"\n",
    "    d = dict(d1)\n",
    "    d.update(d2)\n",
    "    return d"
   ]
  },
  {
   "cell_type": "markdown",
   "metadata": {},
   "source": [
    "## 1.8 Testing Code\n",
    "```python\n",
    "def test():\n",
    "    \"\"\"test part of utilites\"\"\"\n",
    "    assert argmax(enumerate([1, 6, 55, 3, 55, 23])) in [2, 4]\n",
    "    assert dict_union({\n",
    "        1: 4,\n",
    "        2: 5,\n",
    "        3: 4\n",
    "    }, {\n",
    "        5: 7,\n",
    "        2: 9\n",
    "    }) == {\n",
    "        1: 4,\n",
    "        2: 9,\n",
    "        3: 4,\n",
    "        5: 7\n",
    "    }\n",
    "    print(\"Passed unit test in utilities\")\n",
    "\n",
    "\n",
    "if __name__ == '__main__':\n",
    "    test()\n",
    "```"
   ]
  }
 ],
 "metadata": {
  "kernelspec": {
   "display_name": "Python 3",
   "language": "python",
   "name": "python3"
  },
  "language_info": {
   "codemirror_mode": {
    "name": "ipython",
    "version": 3
   },
   "file_extension": ".py",
   "mimetype": "text/x-python",
   "name": "python",
   "nbconvert_exporter": "python",
   "pygments_lexer": "ipython3",
   "version": "3.7.2rc1"
  },
  "name": "ch01-Python-for-Artificial-Intelligence.ipynb"
 },
 "nbformat": 4,
 "nbformat_minor": 2
}
