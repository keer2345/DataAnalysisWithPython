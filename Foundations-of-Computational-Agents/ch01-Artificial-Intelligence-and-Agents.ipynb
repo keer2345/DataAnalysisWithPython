{
 "cells": [
  {
   "cell_type": "markdown",
   "metadata": {
    "ein.tags": "worksheet-0",
    "slideshow": {
     "slide_type": "-"
    }
   },
   "source": [
    "# Chapter 1. Artificial Intelligence and Agents\n",
    "\n",
    ">人工智能的历史是一个幻想的历史,可能性,示威游行,并承诺。自从荷马写机械“三脚”等待神的晚餐,想象机械助理已经成为我们文化的一部分。然而,只有在过去的半个世纪,人工智能社区,能够构建实验机器测试假设思想和智能行为的机制,从而证明机制,以前只存在理论上的可能性。\n",
    "\n",
    "深层次的科学和工程问题已经解决,很多等待解决。目前许多实际应用部署和潜在的未来存在一个几乎无限数量的应用程序。在这本书中,我们目前的原则构成智能计算代理。这些原则可以帮助您了解当前和未来的工作在人工智能和装备你自己纪律作出贡献。\n",
    "\n",
    "## 1.1 What is Artificial Intelligence?\n",
    "**Artificial intelligence （人工智能）**是研究只能行动的计算代理的综合和分析的领域。让我们来看看这个定义的每个部分。\n",
    "\n",
    "**Agent （代理）**是在环境中的东西。代理包括蠕虫、狗、恒温器、飞机、机器人,人类,公司和国家。\n",
    "\n",
    "代理何时**智能**行事：\n",
    "- 考虑到其行动的短期和长期后果，它的作用是适合其情况和目标\n",
    "- 它对变化的环境和不断变化的目标都很灵活\n",
    "- 它从经验中学习\n",
    "- 鉴于其感知和计算限制，它做出了适当的选择\n",
    "\n",
    "考虑到其行动的短期和长期后果，它的作用是适合其情况和目标\n",
    "• 它对变化的环境和不断变化的目标都很灵活\n",
    "• 它从经验中学习\n",
    "• 鉴于其感知和计算限制，它做出了适当的选择\n",
    "\n",
    "一个计算代理是代理其决定有关其动作可以在计算方面来解释。也就是说，可以将决策分解为可以在物理设备中实现的原始操作。这种计算可以采用多种形式。在人类中，这种计算是在“湿软件”中进行的; 在计算机中，它是在“硬件”中实现的。虽然有些代理可以说是不计算的，例如风雨侵蚀了景观，但是所有智能代理都是计算的是一个悬而未决的问题。\n",
    "\n",
    "所有代理都是有限的。没有代理人是无所不知或无所不能的。代理商只能在非常专业的领域观察世界的一切，“世界”受到很大限制。代理具有有限的内存。现实世界中的代理人没有无限的时间采取行动。\n",
    "\n",
    "人工智能的核心科学目标是理解使自然或人工系统中的智能行为成为可能的原则。这是通过\n",
    "\n",
    "- 天然和人工代理的**分析**\n",
    "- 制定和测试关于构建智能代理和构建智能代理所需要的假设\n",
    "- 设计，构建和试验计算系统，执行通常被视为需要智能的任务。\n",
    "\n",
    "作为科学的一部分，研究人员建立经验系统来检验假设或探索可能的设计空间。这些与为应用程序域构建的应用程序完全不同。\n",
    "\n",
    "这个定义不仅仅是为了智能思想。我们只对智能思考感兴趣，因为它会带来更智能的行为。思想的作用是影响行动。\n",
    "\n",
    "AI 的核心工程目标是设计和合成有用的智能工件。我们实际上想要构建智能行动的代理。这些代理在许多应用中是有用的。\n",
    "\n",
    "### 1.1.1 Artificial and Natural Intelligence"
   ]
  },
  {
   "cell_type": "markdown",
   "metadata": {
    "ein.tags": "worksheet-0",
    "slideshow": {
     "slide_type": "-"
    }
   },
   "source": [
    "## 1.2 A Brief History of Artificial Intelligence\n",
    "### 1.2.1 Relationship to Other Disciplines\n",
    "\n",
    "## 1.5 Agent Design Space"
   ]
  }
 ],
 "metadata": {
  "kernelspec": {
   "display_name": "Python 3",
   "language": "python",
   "name": "python3"
  },
  "language_info": {
   "codemirror_mode": {
    "name": "ipython",
    "version": 3
   },
   "file_extension": ".py",
   "mimetype": "text/x-python",
   "name": "python",
   "nbconvert_exporter": "python",
   "pygments_lexer": "ipython3",
   "version": "3.7.2"
  },
  "name": "ch01-Artificial-Intelligence-and-Agents.ipynb"
 },
 "nbformat": 4,
 "nbformat_minor": 2
}
