{
 "cells": [
  {
   "cell_type": "markdown",
   "metadata": {},
   "source": [
    "# 3. numpy的属性"
   ]
  },
  {
   "cell_type": "code",
   "execution_count": 12,
   "metadata": {},
   "outputs": [
    {
     "name": "stdout",
     "output_type": "stream",
     "text": [
      "\n",
      "list:\n",
      " [[1, 2, 3], [2, 3, 4]]\n",
      "\n",
      "array:\n",
      " [[1 2 3]\n",
      " [2 3 4]]\n",
      "\n",
      "number of dim:  2\n",
      "shape:  (2, 3)\n",
      "size:  6\n"
     ]
    }
   ],
   "source": [
    "import numpy as np\n",
    "\n",
    "list = [[1,2,3], [2,3,4]]\n",
    "array = np.array(list)\n",
    "\n",
    "print('\\nlist:\\n',list)\n",
    "print('\\narray:\\n',array)\n",
    "\n",
    "print('\\nnumber of dim: ',array.ndim)\n",
    "print('shape: ',array.shape)\n",
    "print('size: ',array.size)"
   ]
  }
 ],
 "metadata": {
  "kernelspec": {
   "display_name": "Python 3",
   "language": "python",
   "name": "python3"
  },
  "language_info": {
   "codemirror_mode": {
    "name": "ipython",
    "version": 3
   },
   "file_extension": ".py",
   "mimetype": "text/x-python",
   "name": "python",
   "nbconvert_exporter": "python",
   "pygments_lexer": "ipython3",
   "version": "3.6.7"
  }
 },
 "nbformat": 4,
 "nbformat_minor": 2
}
