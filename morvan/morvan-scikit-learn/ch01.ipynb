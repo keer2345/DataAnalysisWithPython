{
 "cells": [
  {
   "cell_type": "code",
   "execution_count": 3,
   "metadata": {},
   "outputs": [],
   "source": [
    "import numpy as np\n",
    "from  sklearn import datasets\n",
    "from sklearn.model_selection import train_test_split\n",
    "from sklearn.neighbors import KNeighborsClassifier"
   ]
  },
  {
   "cell_type": "code",
   "execution_count": 16,
   "metadata": {},
   "outputs": [
    {
     "data": {
      "text/plain": [
       "array([[5.1, 3.5, 1.4, 0.2],\n",
       "       [4.9, 3. , 1.4, 0.2]])"
      ]
     },
     "execution_count": 16,
     "metadata": {},
     "output_type": "execute_result"
    }
   ],
   "source": [
    "iris = datasets.load_iris()\n",
    "\n",
    "iris_X = iris.data\n",
    "iris_y = iris.target\n",
    "iris_X[:2, :]"
   ]
  },
  {
   "cell_type": "code",
   "execution_count": 18,
   "metadata": {},
   "outputs": [
    {
     "data": {
      "text/plain": [
       "array([0, 0, 0, 0, 0, 0, 0, 0, 0, 0, 0, 0, 0, 0, 0, 0, 0, 0, 0, 0, 0, 0,\n",
       "       0, 0, 0, 0, 0, 0, 0, 0, 0, 0, 0, 0, 0, 0, 0, 0, 0, 0, 0, 0, 0, 0,\n",
       "       0, 0, 0, 0, 0, 0, 1, 1, 1, 1, 1, 1, 1, 1, 1, 1, 1, 1, 1, 1, 1, 1,\n",
       "       1, 1, 1, 1, 1, 1, 1, 1, 1, 1, 1, 1, 1, 1, 1, 1, 1, 1, 1, 1, 1, 1,\n",
       "       1, 1, 1, 1, 1, 1, 1, 1, 1, 1, 1, 1, 2, 2, 2, 2, 2, 2, 2, 2, 2, 2,\n",
       "       2, 2, 2, 2, 2, 2, 2, 2, 2, 2, 2, 2, 2, 2, 2, 2, 2, 2, 2, 2, 2, 2,\n",
       "       2, 2, 2, 2, 2, 2, 2, 2, 2, 2, 2, 2, 2, 2, 2, 2, 2, 2])"
      ]
     },
     "execution_count": 18,
     "metadata": {},
     "output_type": "execute_result"
    }
   ],
   "source": [
    "iris_y"
   ]
  },
  {
   "cell_type": "code",
   "execution_count": 24,
   "metadata": {},
   "outputs": [],
   "source": [
    "X_train, X_test, y_train, y_test = train_test_split(iris_X, iris_y, test_size=0.3)"
   ]
  },
  {
   "cell_type": "code",
   "execution_count": 26,
   "metadata": {},
   "outputs": [
    {
     "data": {
      "text/plain": [
       "array([[6.5, 2.8, 4.6, 1.5],\n",
       "       [5.5, 2.5, 4. , 1.3],\n",
       "       [4.8, 3. , 1.4, 0.1],\n",
       "       [5.1, 2.5, 3. , 1.1],\n",
       "       [4.6, 3.2, 1.4, 0.2],\n",
       "       [5.7, 2.6, 3.5, 1. ],\n",
       "       [5. , 3.3, 1.4, 0.2],\n",
       "       [4.6, 3.6, 1. , 0.2],\n",
       "       [4.4, 3. , 1.3, 0.2],\n",
       "       [6.7, 3.1, 4.7, 1.5],\n",
       "       [5.2, 4.1, 1.5, 0.1],\n",
       "       [6.2, 2.8, 4.8, 1.8],\n",
       "       [5.4, 3.4, 1.7, 0.2],\n",
       "       [5.4, 3.9, 1.3, 0.4],\n",
       "       [5.7, 3.8, 1.7, 0.3],\n",
       "       [4.8, 3.4, 1.6, 0.2],\n",
       "       [6.4, 3.2, 4.5, 1.5],\n",
       "       [6.7, 3.1, 5.6, 2.4],\n",
       "       [5.1, 3.3, 1.7, 0.5],\n",
       "       [6.2, 2.9, 4.3, 1.3],\n",
       "       [5.5, 2.4, 3.7, 1. ],\n",
       "       [4.9, 3.1, 1.5, 0.2],\n",
       "       [5. , 3.4, 1.6, 0.4],\n",
       "       [5. , 3.4, 1.5, 0.2],\n",
       "       [7.2, 3. , 5.8, 1.6],\n",
       "       [5.4, 3.7, 1.5, 0.2],\n",
       "       [6. , 2.7, 5.1, 1.6],\n",
       "       [4.3, 3. , 1.1, 0.1],\n",
       "       [5.7, 4.4, 1.5, 0.4],\n",
       "       [5.9, 3. , 5.1, 1.8],\n",
       "       [6. , 2.2, 4. , 1. ],\n",
       "       [6.3, 2.9, 5.6, 1.8],\n",
       "       [4.6, 3.4, 1.4, 0.3],\n",
       "       [6.3, 2.3, 4.4, 1.3],\n",
       "       [5.7, 2.8, 4.5, 1.3],\n",
       "       [4.8, 3.4, 1.9, 0.2],\n",
       "       [5.7, 2.8, 4.1, 1.3],\n",
       "       [6. , 3. , 4.8, 1.8],\n",
       "       [6.8, 2.8, 4.8, 1.4],\n",
       "       [5.1, 3.5, 1.4, 0.2],\n",
       "       [6.9, 3.1, 5.1, 2.3],\n",
       "       [5.1, 3.8, 1.6, 0.2],\n",
       "       [5.3, 3.7, 1.5, 0.2],\n",
       "       [7.1, 3. , 5.9, 2.1],\n",
       "       [5. , 3.6, 1.4, 0.2]])"
      ]
     },
     "execution_count": 26,
     "metadata": {},
     "output_type": "execute_result"
    }
   ],
   "source": [
    "X_test"
   ]
  },
  {
   "cell_type": "code",
   "execution_count": 27,
   "metadata": {},
   "outputs": [
    {
     "data": {
      "text/plain": [
       "array([1, 0, 1, 1, 0, 1, 2, 0, 2, 2, 0, 2, 1, 2, 2, 1, 0, 2, 2, 1, 1, 0,\n",
       "       2, 1, 0, 1, 2, 0, 2, 2, 1, 2, 2, 1, 1, 2, 2, 1, 0, 1, 2, 2, 1, 0,\n",
       "       1, 2, 2, 1, 2, 1, 0, 0, 1, 0, 2, 1, 1, 0, 1, 2, 1, 1, 2, 2, 1, 0,\n",
       "       0, 0, 2, 1, 2, 0, 2, 2, 2, 2, 2, 2, 0, 0, 2, 1, 1, 0, 2, 2, 1, 0,\n",
       "       1, 2, 0, 0, 0, 2, 1, 1, 1, 0, 1, 0, 1, 2, 2, 2, 2])"
      ]
     },
     "execution_count": 27,
     "metadata": {},
     "output_type": "execute_result"
    }
   ],
   "source": [
    "y_train"
   ]
  },
  {
   "cell_type": "code",
   "execution_count": 29,
   "metadata": {},
   "outputs": [
    {
     "data": {
      "text/plain": [
       "array([1, 1, 0, 1, 0, 1, 0, 0, 0, 1, 0, 2, 0, 0, 0, 0, 1, 2, 0, 1, 1, 0,\n",
       "       0, 0, 2, 0, 1, 0, 0, 2, 1, 2, 0, 1, 1, 0, 1, 2, 1, 0, 2, 0, 0, 2,\n",
       "       0])"
      ]
     },
     "execution_count": 29,
     "metadata": {},
     "output_type": "execute_result"
    }
   ],
   "source": [
    "y_test"
   ]
  },
  {
   "cell_type": "code",
   "execution_count": 31,
   "metadata": {},
   "outputs": [
    {
     "data": {
      "text/plain": [
       "array([1, 1, 0, 1, 0, 1, 0, 0, 0, 1, 0, 2, 0, 0, 0, 0, 1, 2, 0, 1, 1, 0,\n",
       "       0, 0, 2, 0, 2, 0, 0, 2, 1, 2, 0, 1, 1, 0, 1, 1, 1, 0, 2, 0, 0, 2,\n",
       "       0])"
      ]
     },
     "execution_count": 31,
     "metadata": {},
     "output_type": "execute_result"
    }
   ],
   "source": [
    "knn =  KNeighborsClassifier()\n",
    "knn.fit(X_train, y_train)\n",
    "knn.predict(X_test)"
   ]
  }
 ],
 "metadata": {
  "kernelspec": {
   "display_name": "Python 3",
   "language": "python",
   "name": "python3"
  },
  "language_info": {
   "codemirror_mode": {
    "name": "ipython",
    "version": 3
   },
   "file_extension": ".py",
   "mimetype": "text/x-python",
   "name": "python",
   "nbconvert_exporter": "python",
   "pygments_lexer": "ipython3",
   "version": "3.7.2"
  }
 },
 "nbformat": 4,
 "nbformat_minor": 2
}
